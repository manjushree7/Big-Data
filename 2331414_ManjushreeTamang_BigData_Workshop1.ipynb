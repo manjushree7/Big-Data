{
  "nbformat": 4,
  "nbformat_minor": 0,
  "metadata": {
    "colab": {
      "provenance": [],
      "authorship_tag": "ABX9TyOKothobNisEAtEwvyG+pz3",
      "include_colab_link": true
    },
    "kernelspec": {
      "name": "python3",
      "display_name": "Python 3"
    },
    "language_info": {
      "name": "python"
    }
  },
  "cells": [
    {
      "cell_type": "markdown",
      "metadata": {
        "id": "view-in-github",
        "colab_type": "text"
      },
      "source": [
        "<a href=\"https://colab.research.google.com/github/manjushree7/Big-Data/blob/main/2331414_ManjushreeTamang_BigData_Workshop1.ipynb\" target=\"_parent\"><img src=\"https://colab.research.google.com/assets/colab-badge.svg\" alt=\"Open In Colab\"/></a>"
      ]
    },
    {
      "cell_type": "markdown",
      "source": [],
      "metadata": {
        "id": "3LIdA-QbLoW4"
      }
    },
    {
      "cell_type": "code",
      "execution_count": null,
      "metadata": {
        "colab": {
          "base_uri": "https://localhost:8080/"
        },
        "id": "acceFZNbLjwZ",
        "outputId": "2af50698-b0a9-4dc3-e7da-20061bf5b5ac"
      },
      "outputs": [
        {
          "name": "stdout",
          "output_type": "stream",
          "text": [
            "Please Enter Your First Name: Manjushree\n"
          ]
        }
      ],
      "source": [
        "\"\"\"To ask a value from the end user and store it to reuse later, first take a variable and store the value.\n",
        "The \"input\" keyword helps to take value from the end user \"\"\"\n",
        "first_name = input(\"Please Enter Your First Name: \")"
      ]
    },
    {
      "cell_type": "code",
      "source": [
        "\"\"\"To show the output python has a keyword \"print\" which prints the output\"\"\"\n",
        "print(first_name)"
      ],
      "metadata": {
        "colab": {
          "base_uri": "https://localhost:8080/"
        },
        "id": "iP_b6fCaL3O7",
        "outputId": "063ed037-d55a-42e7-8151-97bbb31db4c2"
      },
      "execution_count": null,
      "outputs": [
        {
          "output_type": "stream",
          "name": "stdout",
          "text": [
            "Manjushree\n"
          ]
        }
      ]
    },
    {
      "cell_type": "code",
      "source": [
        "\"\"\"Here we are asking user to enter a value and checks if its negative, non-negative or positive\n",
        "by the control structure\"\"\"\n",
        "value = int(input(\"Please Enter a Number: \")) #input keyword always takes any value as a string. Thus, we use int() function\n",
        "#it is called casting. It converts a value to different data types\n",
        "if value < 0:\n",
        "  print('The number is negative')\n",
        "elif value == 0:\n",
        "  print('The number is non-negative')\n",
        "else:\n",
        "  print('The number is positive')"
      ],
      "metadata": {
        "colab": {
          "base_uri": "https://localhost:8080/"
        },
        "id": "7o5i5HDrMCWU",
        "outputId": "ebd87ffc-db0c-4ddf-a4ec-bbefb3c13115"
      },
      "execution_count": null,
      "outputs": [
        {
          "output_type": "stream",
          "name": "stdout",
          "text": [
            "Please Enter a Number: -1234\n",
            "The number is negative\n"
          ]
        }
      ]
    },
    {
      "cell_type": "code",
      "source": [
        "\"\"\"Find the sum of all integers from 1 to 10 using while loop\"\"\"\n",
        "total = 0\n",
        "counter = 1\n",
        "while counter <= 10: #stopping condition\n",
        "  total = total + counter #sum\n",
        "  counter += 1 #increament\n",
        "print(total)"
      ],
      "metadata": {
        "colab": {
          "base_uri": "https://localhost:8080/"
        },
        "id": "k1jcYAvEMNFh",
        "outputId": "8d7f4e50-da8b-4c92-f3c4-19de843d68d9"
      },
      "execution_count": null,
      "outputs": [
        {
          "output_type": "stream",
          "name": "stdout",
          "text": [
            "55\n"
          ]
        }
      ]
    },
    {
      "cell_type": "code",
      "source": [
        "\"\"\"A list can be created using a comma-separated sequence within square brackets\"\"\"\n",
        "first_list = [1, 2, 3, 8]"
      ],
      "metadata": {
        "id": "UhBMEGQJMnML"
      },
      "execution_count": null,
      "outputs": []
    },
    {
      "cell_type": "code",
      "source": [
        "\"\"\"In a list, the individual items can be accessed by subscript/index:\"\"\"\n",
        "print(\"First value of the list is \", first_list[0])\n",
        "print(\"Last value of the list is \", first_list[-1])"
      ],
      "metadata": {
        "colab": {
          "base_uri": "https://localhost:8080/"
        },
        "id": "vj34kUGVMnTf",
        "outputId": "00a189b0-fa8e-4921-e2c0-71e636748593"
      },
      "execution_count": null,
      "outputs": [
        {
          "output_type": "stream",
          "name": "stdout",
          "text": [
            "First value of the list is  1\n",
            "Last value of the list is  8\n"
          ]
        }
      ]
    },
    {
      "cell_type": "code",
      "source": [
        "\"\"\"The elements of a list can also be accessed by traversing the list using the iterator mechanism:\"\"\"\n",
        "for values in first_list:\n",
        "  print(values)"
      ],
      "metadata": {
        "colab": {
          "base_uri": "https://localhost:8080/"
        },
        "id": "87uveYspMtNp",
        "outputId": "1e332bee-d64e-4376-fd91-5a616225828c"
      },
      "execution_count": null,
      "outputs": [
        {
          "output_type": "stream",
          "name": "stdout",
          "text": [
            "1\n",
            "2\n",
            "3\n",
            "8\n"
          ]
        }
      ]
    },
    {
      "cell_type": "code",
      "source": [
        "#append\n",
        "first_list.append(10)\n",
        "print(\"After adding another element in the list, the list is \", first_list)\n",
        "\n",
        "#modify\n",
        "first_list[2] = 5\n",
        "print(\"After modifying an element in the list, the list is \", first_list)\n",
        "\n",
        "#insert: elements can be inserted in any positon/index\n",
        "first_list.insert(2, 12)\n",
        "print(\"After inserting an element in the list in the third position, the list is \", first_list)"
      ],
      "metadata": {
        "colab": {
          "base_uri": "https://localhost:8080/"
        },
        "id": "fOO5HdmYMvwU",
        "outputId": "7d196832-6936-4391-b3ad-02b5545fc593"
      },
      "execution_count": null,
      "outputs": [
        {
          "output_type": "stream",
          "name": "stdout",
          "text": [
            "After adding another element in the list, the list is  [1, 2, 3, 8, 10]\n",
            "After modifying an element in the list, the list is  [1, 2, 5, 8, 10]\n",
            "After inserting an element in the list in the third position, the list is  [1, 2, 12, 5, 8, 10]\n"
          ]
        }
      ]
    },
    {
      "cell_type": "code",
      "source": [
        "\"\"\"There are lot of ways to access elements of the dictionary. However, we will parctice the most common one.\n",
        "The traversal using the iterator mechanism (for statement) is made over the keys in a dictionary\"\"\"\n",
        "zipCode = {'London':290, 'Leeds':578, 'Wolverhampton':911}\n",
        "for key in zipCode:\n",
        "  print(key, '= ', zipCode[key])"
      ],
      "metadata": {
        "colab": {
          "base_uri": "https://localhost:8080/"
        },
        "id": "zOYtosbXM1e0",
        "outputId": "87a762d5-4c51-4413-f763-a5cb8144c0db"
      },
      "execution_count": null,
      "outputs": [
        {
          "output_type": "stream",
          "name": "stdout",
          "text": [
            "London =  290\n",
            "Leeds =  578\n",
            "Wolverhampton =  911\n"
          ]
        }
      ]
    },
    {
      "cell_type": "code",
      "source": [
        "\"\"\"To explicitely find the list of keys or list value we can use the following\"\"\"\n",
        "key_list = zipCode.keys()\n",
        "value_list = zipCode.values()\n",
        "print(key_list)\n",
        "print(value_list)"
      ],
      "metadata": {
        "colab": {
          "base_uri": "https://localhost:8080/"
        },
        "id": "G9O-0Nb8M1Wg",
        "outputId": "1f4943bf-3a13-4446-9486-ac5f85ed623c"
      },
      "execution_count": null,
      "outputs": [
        {
          "output_type": "stream",
          "name": "stdout",
          "text": [
            "dict_keys(['London', 'Leeds', 'Wolverhampton'])\n",
            "dict_values([290, 578, 911])\n"
          ]
        }
      ]
    },
    {
      "cell_type": "code",
      "source": [
        "\"\"\"To change the value of a corresponding key we can do the following\"\"\"\n",
        "zipCode['London'] = 666\n",
        "for key in zipCode:\n",
        "  print(key, '= ', zipCode[key])"
      ],
      "metadata": {
        "colab": {
          "base_uri": "https://localhost:8080/"
        },
        "id": "AFgCsGDyNC6W",
        "outputId": "23836d90-5b34-436f-a3c2-03c596b9702e"
      },
      "execution_count": null,
      "outputs": [
        {
          "output_type": "stream",
          "name": "stdout",
          "text": [
            "London =  666\n",
            "Leeds =  578\n",
            "Wolverhampton =  911\n"
          ]
        }
      ]
    },
    {
      "cell_type": "code",
      "source": [
        "\"\"\"Using the same technique we can add another entry. However, the key must be unique.\n",
        "Duplicate key name will modify the value only\"\"\"\n",
        "zipCode['Birmingham'] = 111\n",
        "for key in zipCode:\n",
        "  print(key, '= ', zipCode[key])"
      ],
      "metadata": {
        "colab": {
          "base_uri": "https://localhost:8080/"
        },
        "id": "suIuODmcNHu0",
        "outputId": "a2535366-caf9-4677-d0fb-962c16a2b7ff"
      },
      "execution_count": null,
      "outputs": [
        {
          "output_type": "stream",
          "name": "stdout",
          "text": [
            "London =  666\n",
            "Leeds =  578\n",
            "Wolverhampton =  911\n",
            "Birmingham =  111\n"
          ]
        }
      ]
    },
    {
      "cell_type": "code",
      "source": [
        "def oddEven(num):\n",
        "  if num%2 == 0:\n",
        "    print('The number is even')\n",
        "  else:\n",
        "    print('The number is odd')\n",
        "  return\n",
        "num = int(input(\"Please Enter a Number: \"))\n",
        "oddEven(num)"
      ],
      "metadata": {
        "colab": {
          "base_uri": "https://localhost:8080/"
        },
        "id": "kwotmw0YNH6e",
        "outputId": "da272e5b-b287-4a96-8f1b-0d417aca9034"
      },
      "execution_count": null,
      "outputs": [
        {
          "output_type": "stream",
          "name": "stdout",
          "text": [
            "Please Enter a Number: 23\n",
            "The number is odd\n"
          ]
        }
      ]
    },
    {
      "cell_type": "markdown",
      "source": [
        "## Workshop Solutions\n"
      ],
      "metadata": {
        "id": "WL5-dG-VNV1z"
      }
    },
    {
      "cell_type": "code",
      "source": [
        "# Question 1\n",
        "\"\"\"\n",
        "This program prints Fibonacci series up to 10 terms\n",
        "\"\"\"\n",
        "\n",
        "print(\"The Fibonacci series up to 10 terms: \")\n",
        "n = 10\n",
        "first_num = 0\n",
        "second_num = 1\n",
        "sum_num = second_num\n",
        "\n",
        "for i in range(n):\n",
        "  print(first_num, end=\" \")\n",
        "  first_num, second_num = second_num, sum_num\n",
        "  sum_num = first_num + second_num\n",
        "\n",
        "print()"
      ],
      "metadata": {
        "id": "gt96tWwZNa7T",
        "colab": {
          "base_uri": "https://localhost:8080/"
        },
        "outputId": "2f920f22-bf54-4e26-eb06-ac50e379a92a"
      },
      "execution_count": null,
      "outputs": [
        {
          "output_type": "stream",
          "name": "stdout",
          "text": [
            "The Fibonacci series up to 10 terms: \n",
            "0 1 1 2 3 5 8 13 21 34 \n"
          ]
        }
      ]
    },
    {
      "cell_type": "code",
      "source": [
        "# Question 2\n",
        "\"\"\"\n",
        "This program allows the user to find the factorial of their choice\n",
        "\"\"\"\n",
        "num = int(input(\"Please enter positive number to find its factorial: \"))\n",
        "factorial = 1\n",
        "for i in range(1, num +1):\n",
        "  factorial = i * factorial\n",
        "print(f\"The factorial of {num} is:\", factorial)"
      ],
      "metadata": {
        "colab": {
          "base_uri": "https://localhost:8080/"
        },
        "id": "DrCS4BMhT-ll",
        "outputId": "de6b3b15-7c30-4013-a531-fe2267cee86a"
      },
      "execution_count": null,
      "outputs": [
        {
          "output_type": "stream",
          "name": "stdout",
          "text": [
            "Please enter positive number to find its factorial: 4\n",
            "The factorial of 4 is: 24\n"
          ]
        }
      ]
    },
    {
      "cell_type": "code",
      "source": [
        "# Question 3\n",
        "\"\"\"\n",
        "This program print right angle triangle using the for loop\n",
        "\"\"\"\n",
        "def triangle(num):\n",
        "  for i in range(1, num+1):\n",
        "    for j in range(1, i+1):\n",
        "      print(\"* \", end= \"\")\n",
        "    print(\" \")\n",
        "num = 5\n",
        "triangle(num)"
      ],
      "metadata": {
        "colab": {
          "base_uri": "https://localhost:8080/"
        },
        "id": "kSCWqXytZldU",
        "outputId": "129c4b40-5e57-4aa1-c0c5-946d17f2bcec"
      },
      "execution_count": null,
      "outputs": [
        {
          "output_type": "stream",
          "name": "stdout",
          "text": [
            "*  \n",
            "* *  \n",
            "* * *  \n",
            "* * * *  \n",
            "* * * * *  \n"
          ]
        }
      ]
    },
    {
      "cell_type": "code",
      "source": [
        "# Question 4\n",
        "\"\"\"\n",
        "This program make a simple calculator that can add, subtract, multiply and divide two numbers using function\n",
        "\"\"\"\n",
        "def add(x, y):\n",
        "  return x + y\n",
        "\n",
        "def sub(x, y):\n",
        "  return x - y\n",
        "\n",
        "def multiply(x, y):\n",
        "  return x * y\n",
        "\n",
        "def divide(x, y):\n",
        "  return x / y\n",
        "\n",
        "print(\"Select an operation: \\n\")\n",
        "print(\" 1.Add \\n 2.Subtract \\n 3. Multiply \\n 4. Divide\\n\")\n",
        "\n",
        "choice = int(input(\"Enter choice(1/2/3/4): \"))\n",
        "\n",
        "num1 = int(input(\"Enter first number: \"))\n",
        "num2 = int(input(\"Enter second number: \"))\n",
        "\n",
        "if choice == 1:\n",
        "  print(num1, \"+\", num2, \"=\", add(num1, num2))\n",
        "elif choice == 2:\n",
        "  print(num1, \"-\", num2, \"=\", sub(num1, num2))\n",
        "elif choice == 3:\n",
        "  print(f\"{num1} x {num2} = {multiply(num1, num2)}\")\n",
        "elif choice == 4:\n",
        "  print(f\"{num1} / {num2} = {divide(num1, num2)}\")\n",
        "else:\n",
        "  print(\"Invalid Input\")"
      ],
      "metadata": {
        "colab": {
          "base_uri": "https://localhost:8080/"
        },
        "id": "dhFWlLSMcLKy",
        "outputId": "753f0945-0069-4eea-eb07-71d74efcbf0f"
      },
      "execution_count": null,
      "outputs": [
        {
          "output_type": "stream",
          "name": "stdout",
          "text": [
            "Select an operation: \n",
            "\n",
            " 1.Add \n",
            " 2.Subtract \n",
            " 3. Multiply \n",
            " 4. Divide\n",
            "\n",
            "Enter choice(1/2/3/4): 1\n",
            "Enter first number: 12\n",
            "Enter second number: 1\n",
            "12 + 1 = 13\n"
          ]
        }
      ]
    },
    {
      "cell_type": "code",
      "source": [
        "# Question 5\n",
        "\"\"\"\n",
        "This program remove the duplicate element of a list\n",
        "\"\"\"\n",
        "list1 = [1, 2, 2, 3, 3, 3, 4, 5, 6, 7, 7]\n",
        "print(\"Original list\", list1)\n",
        "\n",
        "list1 = list(set(list1))\n",
        "print(\"List without duplicates:\", list1)"
      ],
      "metadata": {
        "colab": {
          "base_uri": "https://localhost:8080/"
        },
        "id": "q2HMeGpZdiCL",
        "outputId": "5b580fb4-728d-4cc9-ca3a-91c8349447a4"
      },
      "execution_count": null,
      "outputs": [
        {
          "output_type": "stream",
          "name": "stdout",
          "text": [
            "Original list [1, 2, 2, 3, 3, 3, 4, 5, 6, 7, 7]\n",
            "List without duplicates: [1, 2, 3, 4, 5, 6, 7]\n"
          ]
        }
      ]
    },
    {
      "cell_type": "code",
      "source": [
        "# Question 6\n",
        "\"\"\"\n",
        "This program create a new dictionary by extracting the mentioned keys from the below dictionary\n",
        "\"\"\"\n",
        "sample_dict = { \"name\": \"Anderson\", \"age\": 35, \"salary\": 5000, \"city\": \"London\"}\n",
        "keys = [\"name\", \"salary\"]\n",
        "\n",
        "new_dict = {key: sample_dict[key] for key in keys}\n",
        "\n",
        "# Display the new dictionary\n",
        "print(new_dict)"
      ],
      "metadata": {
        "colab": {
          "base_uri": "https://localhost:8080/"
        },
        "id": "rjrTcD0SeIQH",
        "outputId": "0084364f-3470-4ce1-a7d3-a75a29ce4519"
      },
      "execution_count": null,
      "outputs": [
        {
          "output_type": "stream",
          "name": "stdout",
          "text": [
            "{'name': 'Anderson', 'salary': 5000}\n"
          ]
        }
      ]
    },
    {
      "cell_type": "code",
      "source": [
        "# Question 5\n",
        "\"\"\"\n",
        "This program convert two lists into a dictionary in a way that item from list_one is the key and item from list_two is the value\n",
        "\"\"\"\n",
        "list_one = ['one', 'two', 'three']\n",
        "list_two = [1, 2, 3]\n",
        "\n",
        "# Converting lists into a dictionary\n",
        "result_dict = dict(zip(list_one, list_two))\n",
        "\n",
        "# Display the dictionary\n",
        "print(result_dict)"
      ],
      "metadata": {
        "colab": {
          "base_uri": "https://localhost:8080/"
        },
        "id": "PXGTBPwRelZY",
        "outputId": "6ff9f4b4-595a-48ab-b301-d40e2f9ae229"
      },
      "execution_count": null,
      "outputs": [
        {
          "output_type": "stream",
          "name": "stdout",
          "text": [
            "{'one': 1, 'two': 2, 'three': 3}\n"
          ]
        }
      ]
    }
  ]
}