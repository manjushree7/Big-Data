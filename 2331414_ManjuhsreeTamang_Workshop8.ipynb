{
  "nbformat": 4,
  "nbformat_minor": 0,
  "metadata": {
    "colab": {
      "provenance": [],
      "mount_file_id": "1aBRfq2tszRX83sBCvevAIhlIIo4g5Cia",
      "authorship_tag": "ABX9TyPLqA7BrvoJ6y3w11t9hNde",
      "include_colab_link": true
    },
    "kernelspec": {
      "name": "python3",
      "display_name": "Python 3"
    },
    "language_info": {
      "name": "python"
    }
  },
  "cells": [
    {
      "cell_type": "markdown",
      "metadata": {
        "id": "view-in-github",
        "colab_type": "text"
      },
      "source": [
        "<a href=\"https://colab.research.google.com/github/manjushree7/Big-Data/blob/main/2331414_ManjuhsreeTamang_Workshop8.ipynb\" target=\"_parent\"><img src=\"https://colab.research.google.com/assets/colab-badge.svg\" alt=\"Open In Colab\"/></a>"
      ]
    },
    {
      "cell_type": "markdown",
      "source": [
        "#Apache Spark"
      ],
      "metadata": {
        "id": "7QKQt9g7lZkE"
      }
    },
    {
      "cell_type": "code",
      "execution_count": 43,
      "metadata": {
        "id": "JvutEFT6fu2f"
      },
      "outputs": [],
      "source": [
        "from pyspark.sql import SparkSession\n",
        "\n",
        "spark = SparkSession.builder \\\n",
        "    .appName(\"StudentDataFrame\") \\\n",
        "    .getOrCreate()"
      ]
    },
    {
      "cell_type": "markdown",
      "source": [
        "#Student.json"
      ],
      "metadata": {
        "id": "1R1vZOxcnqlJ"
      }
    },
    {
      "cell_type": "code",
      "source": [
        "df = spark.read.json(\"/content/drive/MyDrive/Colab Notebooks/Big Data/Week8/json/student.json\")"
      ],
      "metadata": {
        "id": "-FtRDXEYgbQc"
      },
      "execution_count": 44,
      "outputs": []
    },
    {
      "cell_type": "code",
      "source": [
        "df.show()"
      ],
      "metadata": {
        "colab": {
          "base_uri": "https://localhost:8080/"
        },
        "id": "qDWPxibugbSu",
        "outputId": "b9e4db96-0831-41d4-f3ae-8d6d489d4f5a"
      },
      "execution_count": 45,
      "outputs": [
        {
          "output_type": "stream",
          "name": "stdout",
          "text": [
            "+----+----------------+--------------------+-------------------+------+\n",
            "| age|          course|               email|              lives|  name|\n",
            "+----+----------------+--------------------+-------------------+------+\n",
            "|NULL|BSc Horticulture|                NULL|        Bridge Farm|   Tom|\n",
            "|  45| MSc Agriculture|                NULL|               NULL| Helen|\n",
            "|  30|            NULL|S.Carter@borchest...|    Borchester Farm| Alice|\n",
            "|  21|BSc Horticulture|                NULL|        Bridge Farm|Johnny|\n",
            "|NULL| MSc Agriculture|                NULL|    Brookfield Farm|  Ruth|\n",
            "|  17|            NULL|                NULL|    Brookfield Farm|   Ben|\n",
            "|  40|            NULL|A.Macy@borchester...|Honeysuckle Cottage|  Adam|\n",
            "|  21|         BSc PPE|P.Aldridge@oxford...|             Oxford|Phoebe|\n",
            "|  25|            NULL|P.Archer@borchest...|   Rickyard Cottage|   Pip|\n",
            "|  35|HND Food Science|                NULL|Honeysuckle Cottage|   Ian|\n",
            "+----+----------------+--------------------+-------------------+------+\n",
            "\n"
          ]
        }
      ]
    },
    {
      "cell_type": "code",
      "source": [
        "df.printSchema()"
      ],
      "metadata": {
        "colab": {
          "base_uri": "https://localhost:8080/"
        },
        "id": "bCvuZ97LgbVD",
        "outputId": "73287294-7e3a-4965-d34e-c39a05667db4"
      },
      "execution_count": 7,
      "outputs": [
        {
          "output_type": "stream",
          "name": "stdout",
          "text": [
            "root\n",
            " |-- age: long (nullable = true)\n",
            " |-- course: string (nullable = true)\n",
            " |-- email: string (nullable = true)\n",
            " |-- lives: string (nullable = true)\n",
            " |-- name: string (nullable = true)\n",
            "\n"
          ]
        }
      ]
    },
    {
      "cell_type": "code",
      "source": [
        "df.select(\"name\").show()"
      ],
      "metadata": {
        "colab": {
          "base_uri": "https://localhost:8080/"
        },
        "id": "M9hg8KF-gbXu",
        "outputId": "9d7f3194-eccd-4943-addb-38f43a756801"
      },
      "execution_count": 8,
      "outputs": [
        {
          "output_type": "stream",
          "name": "stdout",
          "text": [
            "+------+\n",
            "|  name|\n",
            "+------+\n",
            "|   Tom|\n",
            "| Helen|\n",
            "| Alice|\n",
            "|Johnny|\n",
            "|  Ruth|\n",
            "|   Ben|\n",
            "|  Adam|\n",
            "|Phoebe|\n",
            "|   Pip|\n",
            "|   Ian|\n",
            "+------+\n",
            "\n"
          ]
        }
      ]
    },
    {
      "cell_type": "code",
      "source": [
        "df.select(df['name'], df['age'] + 1).show()"
      ],
      "metadata": {
        "colab": {
          "base_uri": "https://localhost:8080/"
        },
        "id": "sKhxOpOZgbaQ",
        "outputId": "ce26daff-93d8-4bdc-eda5-3a29b781ff6f"
      },
      "execution_count": 9,
      "outputs": [
        {
          "output_type": "stream",
          "name": "stdout",
          "text": [
            "+------+---------+\n",
            "|  name|(age + 1)|\n",
            "+------+---------+\n",
            "|   Tom|     NULL|\n",
            "| Helen|       46|\n",
            "| Alice|       31|\n",
            "|Johnny|       22|\n",
            "|  Ruth|     NULL|\n",
            "|   Ben|       18|\n",
            "|  Adam|       41|\n",
            "|Phoebe|       22|\n",
            "|   Pip|       26|\n",
            "|   Ian|       36|\n",
            "+------+---------+\n",
            "\n"
          ]
        }
      ]
    },
    {
      "cell_type": "code",
      "source": [
        "df.filter(df['age'] > 21).show()"
      ],
      "metadata": {
        "colab": {
          "base_uri": "https://localhost:8080/"
        },
        "id": "BZVuPbFcgbct",
        "outputId": "2eda5e43-7f22-486f-9b67-3b3bff9aa6e5"
      },
      "execution_count": 10,
      "outputs": [
        {
          "output_type": "stream",
          "name": "stdout",
          "text": [
            "+---+----------------+--------------------+-------------------+-----+\n",
            "|age|          course|               email|              lives| name|\n",
            "+---+----------------+--------------------+-------------------+-----+\n",
            "| 45| MSc Agriculture|                NULL|               NULL|Helen|\n",
            "| 30|            NULL|S.Carter@borchest...|    Borchester Farm|Alice|\n",
            "| 40|            NULL|A.Macy@borchester...|Honeysuckle Cottage| Adam|\n",
            "| 25|            NULL|P.Archer@borchest...|   Rickyard Cottage|  Pip|\n",
            "| 35|HND Food Science|                NULL|Honeysuckle Cottage|  Ian|\n",
            "+---+----------------+--------------------+-------------------+-----+\n",
            "\n"
          ]
        }
      ]
    },
    {
      "cell_type": "code",
      "source": [
        "df.groupBy(\"course\").count().show()"
      ],
      "metadata": {
        "colab": {
          "base_uri": "https://localhost:8080/"
        },
        "id": "B2ZwLiFqgbe-",
        "outputId": "9457d8c0-ae7b-4760-d2d0-61152197203c"
      },
      "execution_count": 11,
      "outputs": [
        {
          "output_type": "stream",
          "name": "stdout",
          "text": [
            "+----------------+-----+\n",
            "|          course|count|\n",
            "+----------------+-----+\n",
            "|         BSc PPE|    1|\n",
            "| MSc Agriculture|    2|\n",
            "|            NULL|    4|\n",
            "|BSc Horticulture|    2|\n",
            "|HND Food Science|    1|\n",
            "+----------------+-----+\n",
            "\n"
          ]
        }
      ]
    },
    {
      "cell_type": "code",
      "source": [
        "df.createOrReplaceTempView(\"student\")"
      ],
      "metadata": {
        "id": "qdC4YQvTgbhX"
      },
      "execution_count": 12,
      "outputs": []
    },
    {
      "cell_type": "code",
      "source": [
        "sqlDF = spark.sql(\"SELECT name, age, course FROM student WHERE age > 21\")"
      ],
      "metadata": {
        "id": "RA5rYWr6gbj7"
      },
      "execution_count": 13,
      "outputs": []
    },
    {
      "cell_type": "code",
      "source": [
        "sqlDF.show()"
      ],
      "metadata": {
        "colab": {
          "base_uri": "https://localhost:8080/"
        },
        "id": "3EEv1nC-gbmX",
        "outputId": "651e5db3-a988-435a-abe7-cb9979508c00"
      },
      "execution_count": 14,
      "outputs": [
        {
          "output_type": "stream",
          "name": "stdout",
          "text": [
            "+-----+---+----------------+\n",
            "| name|age|          course|\n",
            "+-----+---+----------------+\n",
            "|Helen| 45| MSc Agriculture|\n",
            "|Alice| 30|            NULL|\n",
            "| Adam| 40|            NULL|\n",
            "|  Pip| 25|            NULL|\n",
            "|  Ian| 35|HND Food Science|\n",
            "+-----+---+----------------+\n",
            "\n"
          ]
        }
      ]
    },
    {
      "cell_type": "markdown",
      "source": [
        "# Weather.json"
      ],
      "metadata": {
        "id": "SLPDANXulqGJ"
      }
    },
    {
      "cell_type": "code",
      "source": [
        "df = spark.read.json(\"/content/drive/MyDrive/Colab Notebooks/Big Data/Week8/json/weather.json\")"
      ],
      "metadata": {
        "id": "dPEwekIOgbo3"
      },
      "execution_count": 19,
      "outputs": []
    },
    {
      "cell_type": "code",
      "source": [
        "df.show()"
      ],
      "metadata": {
        "colab": {
          "base_uri": "https://localhost:8080/"
        },
        "id": "XKIlCloNgbrb",
        "outputId": "a2a401c6-7534-4da7-e196-512cb6db5178"
      },
      "execution_count": 20,
      "outputs": [
        {
          "output_type": "stream",
          "name": "stdout",
          "text": [
            "+------------+-----------+--------------------+--------------------+--------------------+--------------+---------+----+-------------------+-------------------+-----------------------+---------------------+-------------------------+-------------------+-----------------------+---------------+----+-------------+-----+------------------+--------------------+-------------------+--------------------+-------------+---------+--------------------+--------------------+--------------------+---------+--------------------+\n",
            "|contributors|coordinates|          created_at|            entities|   extended_entities|favorite_count|favorited| geo|                 id|             id_str|in_reply_to_screen_name|in_reply_to_status_id|in_reply_to_status_id_str|in_reply_to_user_id|in_reply_to_user_id_str|is_quote_status|lang|     metadata|place|possibly_sensitive|       quoted_status|   quoted_status_id|quoted_status_id_str|retweet_count|retweeted|    retweeted_status|              source|                text|truncated|                user|\n",
            "+------------+-----------+--------------------+--------------------+--------------------+--------------+---------+----+-------------------+-------------------+-----------------------+---------------------+-------------------------+-------------------+-----------------------+---------------+----+-------------+-----+------------------+--------------------+-------------------+--------------------+-------------+---------+--------------------+--------------------+--------------------+---------+--------------------+\n",
            "|        NULL|       NULL|Mon Feb 03 20:02:...|{[], NULL, [], [{...|                NULL|             0|    false|NULL|1224423049782603783|1224423049782603783|            Lillybetmax|  1224417619173834752|      1224417619173834752|1139793943032414208|    1139793943032414208|          false|  en| {en, recent}| NULL|              NULL|                NULL|               NULL|                NULL|            0|    false|                NULL|<a href=\"http://t...|@Lillybetmax @Vis...|     true|{false, Wed Aug 2...|\n",
            "|        NULL|       NULL|Mon Feb 03 20:01:...|{[], NULL, [], []...|                NULL|             0|    false|NULL|1224422779614875649|1224422779614875649|                SGIRE82|  1224415421094400000|      1224415421094400000| 876362002024812545|     876362002024812545|          false| und|{und, recent}| NULL|              NULL|                NULL|               NULL|                NULL|            0|    false|                NULL|<a href=\"http://t...|@SGIRE82 @VisitCa...|    false|{false, Wed Aug 2...|\n",
            "|        NULL|       NULL|Mon Feb 03 19:53:...|{[], NULL, [], []...|                NULL|             1|    false|NULL|1224420592067272704|1224420592067272704|                  owz09|  1224417439968112647|      1224417439968112647|          394271926|              394271926|          false| und|{und, recent}| NULL|              NULL|                NULL|               NULL|                NULL|            0|    false|                NULL|<a href=\"http://t...|@owz09 @DerekTheW...|    false|{false, Mon Feb 2...|\n",
            "|        NULL|       NULL|Mon Feb 03 19:48:...|{[], NULL, [], []...|                NULL|             0|    false|NULL|1224419463136600064|1224419463136600064|                   NULL|                 NULL|                     NULL|               NULL|                   NULL|          false|  en| {en, recent}| NULL|              NULL|                NULL|               NULL|                NULL|            3|    false|{NULL, NULL, Mon ...|<a href=\"http://t...|RT @therileyshot:...|    false|{false, Tue Jun 2...|\n",
            "|        NULL|       NULL|Mon Feb 03 19:47:...|{[], NULL, [], [{...|                NULL|             0|    false|NULL|1224419201596755969|1224419201596755969|                   NULL|                 NULL|                     NULL|               NULL|                   NULL|           true|  es| {es, recent}| NULL|             false|{NULL, NULL, Mon ...|1224341975991713792| 1224341975991713792|            0|    false|                NULL|<a href=\"http://t...|Como que 2/3? ya ...|    false|{false, Tue Oct 0...|\n",
            "|        NULL|       NULL|Mon Feb 03 19:45:...|{[], NULL, [], []...|                NULL|             0|    false|NULL|1224418703703408642|1224418703703408642|                   NULL|                 NULL|                     NULL|               NULL|                   NULL|          false|  en| {en, recent}| NULL|              NULL|                NULL|               NULL|                NULL|           14|    false|{NULL, NULL, Mon ...|<a href=\"http://t...|RT @DerekTheWeath...|    false|{false, Mon Mar 2...|\n",
            "|        NULL|       NULL|Mon Feb 03 19:45:...|{[], NULL, [], []...|                NULL|             0|    false|NULL|1224418582056054785|1224418582056054785|                   NULL|                 NULL|                     NULL|               NULL|                   NULL|          false|  en| {en, recent}| NULL|              NULL|                NULL|               NULL|                NULL|            2|    false|{NULL, NULL, Mon ...|<a href=\"http://t...|RT @highland_andy...|    false|{false, Thu Apr 2...|\n",
            "|        NULL|       NULL|Mon Feb 03 19:41:...|{[], NULL, [], [{...|                NULL|             1|    false|NULL|1224417619173834752|1224417619173834752|          highland_andy|  1224409962190905344|      1224409962190905344|          789877778|              789877778|          false|  en| {en, recent}| NULL|              NULL|                NULL|               NULL|                NULL|            0|    false|                NULL|<a href=\"http://t...|@highland_andy @V...|     true|{false, Sat Jun 1...|\n",
            "|        NULL|       NULL|Mon Feb 03 19:41:...|{[], NULL, [], []...|                NULL|             0|    false|NULL|1224417601310396416|1224417601310396416|                   NULL|                 NULL|                     NULL|               NULL|                   NULL|          false|  en| {en, recent}| NULL|              NULL|                NULL|               NULL|                NULL|           14|    false|{NULL, NULL, Mon ...|<a href=\"https://...|RT @DerekTheWeath...|    false|{false, Fri Jan 0...|\n",
            "|        NULL|       NULL|Mon Feb 03 19:40:...|{[], NULL, [], []...|                NULL|             0|    false|NULL|1224417439968112647|1224417439968112647|           WAWilliams15|  1224402911406497793|      1224402911406497793|          116506847|              116506847|          false|  en| {en, recent}| NULL|              NULL|                NULL|               NULL|                NULL|            0|    false|                NULL|<a href=\"http://t...|@WAWilliams15 @De...|    false|{false, Wed Oct 1...|\n",
            "|        NULL|       NULL|Mon Feb 03 19:39:...|{[], NULL, [], []...|                NULL|             0|    false|NULL|1224417020999012352|1224417020999012352|                   NULL|                 NULL|                     NULL|               NULL|                   NULL|          false|  en| {en, recent}| NULL|              NULL|                NULL|               NULL|                NULL|           14|    false|{NULL, NULL, Mon ...|<a href=\"http://t...|RT @DerekTheWeath...|    false|{false, Fri Nov 0...|\n",
            "|        NULL|       NULL|Mon Feb 03 19:32:...|{[], NULL, [], [{...|                NULL|             1|    false|NULL|1224415421094400000|1224415421094400000|          highland_andy|  1224409962190905344|      1224409962190905344|          789877778|              789877778|          false|  en| {en, recent}| NULL|              NULL|                NULL|               NULL|                NULL|            0|    false|                NULL|<a href=\"http://t...|@highland_andy @V...|     true|{false, Sun Jun 1...|\n",
            "|        NULL|       NULL|Mon Feb 03 19:28:...|{[], NULL, [], []...|                NULL|             0|    false|NULL|1224414269690843138|1224414269690843138|                   NULL|                 NULL|                     NULL|               NULL|                   NULL|          false|  en| {en, recent}| NULL|              NULL|                NULL|               NULL|                NULL|           14|    false|{NULL, NULL, Mon ...|<a href=\"http://t...|RT @DerekTheWeath...|    false|{false, Fri Jul 1...|\n",
            "|        NULL|       NULL|Mon Feb 03 19:17:...|{[], NULL, [], []...|                NULL|             0|    false|NULL|1224411533788270592|1224411533788270592|                   NULL|                 NULL|                     NULL|               NULL|                   NULL|          false|  en| {en, recent}| NULL|              NULL|                NULL|               NULL|                NULL|            2|    false|{NULL, NULL, Mon ...|<a href=\"https://...|RT @highland_andy...|    false|{false, Fri Jan 2...|\n",
            "|        NULL|       NULL|Mon Feb 03 19:12:...|{[], [{pic.twitte...|{[{NULL, pic.twit...|             0|    false|NULL|1224410303317860356|1224410303317860356|             bbcweather|                 NULL|                     NULL|          142614009|              142614009|          false| und|{und, recent}| NULL|             false|                NULL|               NULL|                NULL|            0|    false|                NULL|<a href=\"http://t...|@bbcweather https...|    false|{false, Sat May 1...|\n",
            "|        NULL|       NULL|Mon Feb 03 19:10:...|{[], NULL, [], [{...|                NULL|            43|    false|NULL|1224409962190905344|1224409962190905344|                   NULL|                 NULL|                     NULL|               NULL|                   NULL|          false|  en| {en, recent}| NULL|             false|                NULL|               NULL|                NULL|            2|    false|                NULL|<a href=\"http://t...|This image has to...|     true|{false, Wed Aug 2...|\n",
            "|        NULL|       NULL|Mon Feb 03 19:07:...|{[{[107, 116], St...|                NULL|             0|    false|NULL|1224409064735756288|1224409064735756288|                   NULL|                 NULL|                     NULL|               NULL|                   NULL|          false|  en| {en, recent}| NULL|              NULL|                NULL|               NULL|                NULL|            3|    false|{NULL, NULL, Mon ...|<a href=\"http://t...|RT @frasergj: A s...|    false|{false, Tue Sep 1...|\n",
            "|        NULL|       NULL|Mon Feb 03 19:05:...|{[], NULL, [], []...|                NULL|             0|    false|NULL|1224408680906489858|1224408680906489858|                   NULL|                 NULL|                     NULL|               NULL|                   NULL|          false|  en| {en, recent}| NULL|              NULL|                NULL|               NULL|                NULL|            6|    false|{NULL, NULL, Sun ...|<a href=\"http://t...|RT @dunbar44: A s...|    false|{false, Sat Jun 1...|\n",
            "|        NULL|       NULL|Mon Feb 03 19:01:...|{[], NULL, [], []...|                NULL|             0|    false|NULL|1224407616807370757|1224407616807370757|                   NULL|                 NULL|                     NULL|               NULL|                   NULL|          false|  en| {en, recent}| NULL|              NULL|                NULL|               NULL|                NULL|           14|    false|{NULL, NULL, Mon ...|<a href=\"http://t...|RT @DerekTheWeath...|    false|{false, Sat Dec 2...|\n",
            "|        NULL|       NULL|Mon Feb 03 18:59:...|{[], NULL, [], []...|                NULL|             0|    false|NULL|1224407088446820353|1224407088446820353|                   NULL|                 NULL|                     NULL|               NULL|                   NULL|          false|  en| {en, recent}| NULL|              NULL|                NULL|               NULL|                NULL|           24|    false|{NULL, NULL, Mon ...|<a href=\"http://t...|RT @bbcweather: W...|    false|{false, Sun May 2...|\n",
            "+------------+-----------+--------------------+--------------------+--------------------+--------------+---------+----+-------------------+-------------------+-----------------------+---------------------+-------------------------+-------------------+-----------------------+---------------+----+-------------+-----+------------------+--------------------+-------------------+--------------------+-------------+---------+--------------------+--------------------+--------------------+---------+--------------------+\n",
            "only showing top 20 rows\n",
            "\n"
          ]
        }
      ]
    },
    {
      "cell_type": "code",
      "source": [
        "df.show(40)"
      ],
      "metadata": {
        "colab": {
          "base_uri": "https://localhost:8080/"
        },
        "id": "8GlHepRsgbt5",
        "outputId": "1c6d66ff-5328-4475-bc1b-be0e383d86f1"
      },
      "execution_count": 21,
      "outputs": [
        {
          "output_type": "stream",
          "name": "stdout",
          "text": [
            "+------------+-----------+--------------------+--------------------+--------------------+--------------+---------+----+-------------------+-------------------+-----------------------+---------------------+-------------------------+-------------------+-----------------------+---------------+----+-------------+--------------------+------------------+--------------------+-------------------+--------------------+-------------+---------+--------------------+--------------------+--------------------+---------+--------------------+\n",
            "|contributors|coordinates|          created_at|            entities|   extended_entities|favorite_count|favorited| geo|                 id|             id_str|in_reply_to_screen_name|in_reply_to_status_id|in_reply_to_status_id_str|in_reply_to_user_id|in_reply_to_user_id_str|is_quote_status|lang|     metadata|               place|possibly_sensitive|       quoted_status|   quoted_status_id|quoted_status_id_str|retweet_count|retweeted|    retweeted_status|              source|                text|truncated|                user|\n",
            "+------------+-----------+--------------------+--------------------+--------------------+--------------+---------+----+-------------------+-------------------+-----------------------+---------------------+-------------------------+-------------------+-----------------------+---------------+----+-------------+--------------------+------------------+--------------------+-------------------+--------------------+-------------+---------+--------------------+--------------------+--------------------+---------+--------------------+\n",
            "|        NULL|       NULL|Mon Feb 03 20:02:...|{[], NULL, [], [{...|                NULL|             0|    false|NULL|1224423049782603783|1224423049782603783|            Lillybetmax|  1224417619173834752|      1224417619173834752|1139793943032414208|    1139793943032414208|          false|  en| {en, recent}|                NULL|              NULL|                NULL|               NULL|                NULL|            0|    false|                NULL|<a href=\"http://t...|@Lillybetmax @Vis...|     true|{false, Wed Aug 2...|\n",
            "|        NULL|       NULL|Mon Feb 03 20:01:...|{[], NULL, [], []...|                NULL|             0|    false|NULL|1224422779614875649|1224422779614875649|                SGIRE82|  1224415421094400000|      1224415421094400000| 876362002024812545|     876362002024812545|          false| und|{und, recent}|                NULL|              NULL|                NULL|               NULL|                NULL|            0|    false|                NULL|<a href=\"http://t...|@SGIRE82 @VisitCa...|    false|{false, Wed Aug 2...|\n",
            "|        NULL|       NULL|Mon Feb 03 19:53:...|{[], NULL, [], []...|                NULL|             1|    false|NULL|1224420592067272704|1224420592067272704|                  owz09|  1224417439968112647|      1224417439968112647|          394271926|              394271926|          false| und|{und, recent}|                NULL|              NULL|                NULL|               NULL|                NULL|            0|    false|                NULL|<a href=\"http://t...|@owz09 @DerekTheW...|    false|{false, Mon Feb 2...|\n",
            "|        NULL|       NULL|Mon Feb 03 19:48:...|{[], NULL, [], []...|                NULL|             0|    false|NULL|1224419463136600064|1224419463136600064|                   NULL|                 NULL|                     NULL|               NULL|                   NULL|          false|  en| {en, recent}|                NULL|              NULL|                NULL|               NULL|                NULL|            3|    false|{NULL, NULL, Mon ...|<a href=\"http://t...|RT @therileyshot:...|    false|{false, Tue Jun 2...|\n",
            "|        NULL|       NULL|Mon Feb 03 19:47:...|{[], NULL, [], [{...|                NULL|             0|    false|NULL|1224419201596755969|1224419201596755969|                   NULL|                 NULL|                     NULL|               NULL|                   NULL|           true|  es| {es, recent}|                NULL|             false|{NULL, NULL, Mon ...|1224341975991713792| 1224341975991713792|            0|    false|                NULL|<a href=\"http://t...|Como que 2/3? ya ...|    false|{false, Tue Oct 0...|\n",
            "|        NULL|       NULL|Mon Feb 03 19:45:...|{[], NULL, [], []...|                NULL|             0|    false|NULL|1224418703703408642|1224418703703408642|                   NULL|                 NULL|                     NULL|               NULL|                   NULL|          false|  en| {en, recent}|                NULL|              NULL|                NULL|               NULL|                NULL|           14|    false|{NULL, NULL, Mon ...|<a href=\"http://t...|RT @DerekTheWeath...|    false|{false, Mon Mar 2...|\n",
            "|        NULL|       NULL|Mon Feb 03 19:45:...|{[], NULL, [], []...|                NULL|             0|    false|NULL|1224418582056054785|1224418582056054785|                   NULL|                 NULL|                     NULL|               NULL|                   NULL|          false|  en| {en, recent}|                NULL|              NULL|                NULL|               NULL|                NULL|            2|    false|{NULL, NULL, Mon ...|<a href=\"http://t...|RT @highland_andy...|    false|{false, Thu Apr 2...|\n",
            "|        NULL|       NULL|Mon Feb 03 19:41:...|{[], NULL, [], [{...|                NULL|             1|    false|NULL|1224417619173834752|1224417619173834752|          highland_andy|  1224409962190905344|      1224409962190905344|          789877778|              789877778|          false|  en| {en, recent}|                NULL|              NULL|                NULL|               NULL|                NULL|            0|    false|                NULL|<a href=\"http://t...|@highland_andy @V...|     true|{false, Sat Jun 1...|\n",
            "|        NULL|       NULL|Mon Feb 03 19:41:...|{[], NULL, [], []...|                NULL|             0|    false|NULL|1224417601310396416|1224417601310396416|                   NULL|                 NULL|                     NULL|               NULL|                   NULL|          false|  en| {en, recent}|                NULL|              NULL|                NULL|               NULL|                NULL|           14|    false|{NULL, NULL, Mon ...|<a href=\"https://...|RT @DerekTheWeath...|    false|{false, Fri Jan 0...|\n",
            "|        NULL|       NULL|Mon Feb 03 19:40:...|{[], NULL, [], []...|                NULL|             0|    false|NULL|1224417439968112647|1224417439968112647|           WAWilliams15|  1224402911406497793|      1224402911406497793|          116506847|              116506847|          false|  en| {en, recent}|                NULL|              NULL|                NULL|               NULL|                NULL|            0|    false|                NULL|<a href=\"http://t...|@WAWilliams15 @De...|    false|{false, Wed Oct 1...|\n",
            "|        NULL|       NULL|Mon Feb 03 19:39:...|{[], NULL, [], []...|                NULL|             0|    false|NULL|1224417020999012352|1224417020999012352|                   NULL|                 NULL|                     NULL|               NULL|                   NULL|          false|  en| {en, recent}|                NULL|              NULL|                NULL|               NULL|                NULL|           14|    false|{NULL, NULL, Mon ...|<a href=\"http://t...|RT @DerekTheWeath...|    false|{false, Fri Nov 0...|\n",
            "|        NULL|       NULL|Mon Feb 03 19:32:...|{[], NULL, [], [{...|                NULL|             1|    false|NULL|1224415421094400000|1224415421094400000|          highland_andy|  1224409962190905344|      1224409962190905344|          789877778|              789877778|          false|  en| {en, recent}|                NULL|              NULL|                NULL|               NULL|                NULL|            0|    false|                NULL|<a href=\"http://t...|@highland_andy @V...|     true|{false, Sun Jun 1...|\n",
            "|        NULL|       NULL|Mon Feb 03 19:28:...|{[], NULL, [], []...|                NULL|             0|    false|NULL|1224414269690843138|1224414269690843138|                   NULL|                 NULL|                     NULL|               NULL|                   NULL|          false|  en| {en, recent}|                NULL|              NULL|                NULL|               NULL|                NULL|           14|    false|{NULL, NULL, Mon ...|<a href=\"http://t...|RT @DerekTheWeath...|    false|{false, Fri Jul 1...|\n",
            "|        NULL|       NULL|Mon Feb 03 19:17:...|{[], NULL, [], []...|                NULL|             0|    false|NULL|1224411533788270592|1224411533788270592|                   NULL|                 NULL|                     NULL|               NULL|                   NULL|          false|  en| {en, recent}|                NULL|              NULL|                NULL|               NULL|                NULL|            2|    false|{NULL, NULL, Mon ...|<a href=\"https://...|RT @highland_andy...|    false|{false, Fri Jan 2...|\n",
            "|        NULL|       NULL|Mon Feb 03 19:12:...|{[], [{pic.twitte...|{[{NULL, pic.twit...|             0|    false|NULL|1224410303317860356|1224410303317860356|             bbcweather|                 NULL|                     NULL|          142614009|              142614009|          false| und|{und, recent}|                NULL|             false|                NULL|               NULL|                NULL|            0|    false|                NULL|<a href=\"http://t...|@bbcweather https...|    false|{false, Sat May 1...|\n",
            "|        NULL|       NULL|Mon Feb 03 19:10:...|{[], NULL, [], [{...|                NULL|            43|    false|NULL|1224409962190905344|1224409962190905344|                   NULL|                 NULL|                     NULL|               NULL|                   NULL|          false|  en| {en, recent}|                NULL|             false|                NULL|               NULL|                NULL|            2|    false|                NULL|<a href=\"http://t...|This image has to...|     true|{false, Wed Aug 2...|\n",
            "|        NULL|       NULL|Mon Feb 03 19:07:...|{[{[107, 116], St...|                NULL|             0|    false|NULL|1224409064735756288|1224409064735756288|                   NULL|                 NULL|                     NULL|               NULL|                   NULL|          false|  en| {en, recent}|                NULL|              NULL|                NULL|               NULL|                NULL|            3|    false|{NULL, NULL, Mon ...|<a href=\"http://t...|RT @frasergj: A s...|    false|{false, Tue Sep 1...|\n",
            "|        NULL|       NULL|Mon Feb 03 19:05:...|{[], NULL, [], []...|                NULL|             0|    false|NULL|1224408680906489858|1224408680906489858|                   NULL|                 NULL|                     NULL|               NULL|                   NULL|          false|  en| {en, recent}|                NULL|              NULL|                NULL|               NULL|                NULL|            6|    false|{NULL, NULL, Sun ...|<a href=\"http://t...|RT @dunbar44: A s...|    false|{false, Sat Jun 1...|\n",
            "|        NULL|       NULL|Mon Feb 03 19:01:...|{[], NULL, [], []...|                NULL|             0|    false|NULL|1224407616807370757|1224407616807370757|                   NULL|                 NULL|                     NULL|               NULL|                   NULL|          false|  en| {en, recent}|                NULL|              NULL|                NULL|               NULL|                NULL|           14|    false|{NULL, NULL, Mon ...|<a href=\"http://t...|RT @DerekTheWeath...|    false|{false, Sat Dec 2...|\n",
            "|        NULL|       NULL|Mon Feb 03 18:59:...|{[], NULL, [], []...|                NULL|             0|    false|NULL|1224407088446820353|1224407088446820353|                   NULL|                 NULL|                     NULL|               NULL|                   NULL|          false|  en| {en, recent}|                NULL|              NULL|                NULL|               NULL|                NULL|           24|    false|{NULL, NULL, Mon ...|<a href=\"http://t...|RT @bbcweather: W...|    false|{false, Sun May 2...|\n",
            "|        NULL|       NULL|Mon Feb 03 18:56:...|{[], NULL, [], []...|                NULL|             0|    false|NULL|1224406347640340482|1224406347640340482|                   NULL|                 NULL|                     NULL|               NULL|                   NULL|          false|  en| {en, recent}|                NULL|              NULL|                NULL|               NULL|                NULL|           14|    false|{NULL, NULL, Mon ...|<a href=\"http://t...|RT @DerekTheWeath...|    false|{false, Tue May 1...|\n",
            "|        NULL|       NULL|Mon Feb 03 18:55:...|{[], NULL, [], []...|                NULL|             0|    false|NULL|1224405989790797829|1224405989790797829|        DerekTheWeather|  1224400483282014214|      1224400483282014214|          309929507|              309929507|          false|  en| {en, recent}|                NULL|              NULL|                NULL|               NULL|                NULL|            0|    false|                NULL|<a href=\"http://t...|@DerekTheWeather ...|    false|{false, Fri Feb 0...|\n",
            "|        NULL|       NULL|Mon Feb 03 18:52:...|{[], NULL, [], [{...|                NULL|             0|    false|NULL|1224405292416425985|1224405292416425985|              sotcstill|  1219369906480844802|      1219369906480844802|          324611883|              324611883|          false|  en| {en, recent}|{{[[[-6.791799, 5...|              NULL|                NULL|               NULL|                NULL|            0|    false|                NULL|<a href=\"http://t...|@sotcstill @OldDu...|     true|{false, Sat May 2...|\n",
            "|        NULL|       NULL|Mon Feb 03 18:52:...|{[], NULL, [], []...|                NULL|             0|    false|NULL|1224405283285487616|1224405283285487616|                   NULL|                 NULL|                     NULL|               NULL|                   NULL|          false|  en| {en, recent}|                NULL|              NULL|                NULL|               NULL|                NULL|           14|    false|{NULL, NULL, Mon ...|<a href=\"http://t...|RT @DerekTheWeath...|    false|{false, Thu Sep 2...|\n",
            "|        NULL|       NULL|Mon Feb 03 18:47:...|{[], NULL, [], []...|                NULL|             0|    false|NULL|1224404131227541508|1224404131227541508|        DerekTheWeather|  1224400483282014214|      1224400483282014214|          309929507|              309929507|          false|  en| {en, recent}|                NULL|              NULL|                NULL|               NULL|                NULL|            0|    false|                NULL|<a href=\"http://t...|@DerekTheWeather ...|    false|{false, Tue Sep 2...|\n",
            "|        NULL|       NULL|Mon Feb 03 18:46:...|{[], NULL, [], []...|                NULL|             0|    false|NULL|1224403761180938241|1224403761180938241|                   NULL|                 NULL|                     NULL|               NULL|                   NULL|          false|  en| {en, recent}|                NULL|              NULL|                NULL|               NULL|                NULL|           14|    false|{NULL, NULL, Mon ...|<a href=\"http://t...|RT @DerekTheWeath...|    false|{false, Sat Dec 0...|\n",
            "|        NULL|       NULL|Mon Feb 03 18:44:...|{[], NULL, [], []...|                NULL|             0|    false|NULL|1224403295428583426|1224403295428583426|        DerekTheWeather|  1224400483282014214|      1224400483282014214|          309929507|              309929507|          false|  en| {en, recent}|                NULL|              NULL|                NULL|               NULL|                NULL|            0|    false|                NULL|<a href=\"http://t...|@DerekTheWeather ...|    false|{false, Sun Sep 2...|\n",
            "|        NULL|       NULL|Mon Feb 03 18:44:...|{[], NULL, [], []...|                NULL|             0|    false|NULL|1224403272657788931|1224403272657788931|                   NULL|                 NULL|                     NULL|               NULL|                   NULL|          false|  en| {en, recent}|                NULL|              NULL|                NULL|               NULL|                NULL|           14|    false|{NULL, NULL, Mon ...|<a href=\"http://t...|RT @DerekTheWeath...|    false|{false, Tue Apr 2...|\n",
            "|        NULL|       NULL|Mon Feb 03 18:42:...|{[], NULL, [], []...|                NULL|             1|    false|NULL|1224402911406497793|1224402911406497793|        DerekTheWeather|  1224400483282014214|      1224400483282014214|          309929507|              309929507|          false|  en| {en, recent}|                NULL|              NULL|                NULL|               NULL|                NULL|            0|    false|                NULL|<a href=\"http://t...|@DerekTheWeather ...|    false|{false, Mon Feb 2...|\n",
            "|        NULL|       NULL|Mon Feb 03 18:40:...|{[], NULL, [], []...|                NULL|             0|    false|NULL|1224402388083265537|1224402388083265537|                   NULL|                 NULL|                     NULL|               NULL|                   NULL|          false|  en| {en, recent}|                NULL|              NULL|                NULL|               NULL|                NULL|           14|    false|{NULL, NULL, Mon ...|<a href=\"http://t...|RT @DerekTheWeath...|    false|{false, Sat Jan 1...|\n",
            "|        NULL|       NULL|Mon Feb 03 18:36:...|{[], NULL, [], []...|                NULL|             0|    false|NULL|1224401328975249410|1224401328975249410|                   NULL|                 NULL|                     NULL|               NULL|                   NULL|          false|  en| {en, recent}|                NULL|              NULL|                NULL|               NULL|                NULL|           14|    false|{NULL, NULL, Mon ...|<a href=\"http://t...|RT @DerekTheWeath...|    false|{false, Fri Oct 2...|\n",
            "|        NULL|       NULL|Mon Feb 03 18:35:...|{[], NULL, [], []...|                NULL|             0|    false|NULL|1224401108640112642|1224401108640112642|                   NULL|                 NULL|                     NULL|               NULL|                   NULL|          false|  en| {en, recent}|                NULL|              NULL|                NULL|               NULL|                NULL|           14|    false|{NULL, NULL, Mon ...|<a href=\"http://t...|RT @DerekTheWeath...|    false|{false, Sun May 2...|\n",
            "|        NULL|       NULL|Mon Feb 03 18:33:...|{[{[41, 50], Stir...|                NULL|             0|    false|NULL|1224400639083663363|1224400639083663363|                   NULL|                 NULL|                     NULL|               NULL|                   NULL|          false|  en| {en, recent}|                NULL|              NULL|                NULL|               NULL|                NULL|            6|    false|{NULL, NULL, Mon ...|<a href=\"https://...|RT @frasergj: Aft...|    false|{false, Mon Sep 0...|\n",
            "|        NULL|       NULL|Mon Feb 03 18:33:...|{[{[107, 116], St...|                NULL|             0|    false|NULL|1224400487694393344|1224400487694393344|                   NULL|                 NULL|                     NULL|               NULL|                   NULL|          false|  en| {en, recent}|                NULL|              NULL|                NULL|               NULL|                NULL|            3|    false|{NULL, NULL, Mon ...|<a href=\"http://t...|RT @frasergj: A s...|    false|{false, Wed Dec 2...|\n",
            "|        NULL|       NULL|Mon Feb 03 18:33:...|{[], NULL, [], [{...|                NULL|            32|    false|NULL|1224400483282014214|1224400483282014214|                   NULL|                 NULL|                     NULL|               NULL|                   NULL|          false|  en| {en, recent}|                NULL|             false|                NULL|               NULL|                NULL|           14|    false|                NULL|<a href=\"https://...|A powerful Jet St...|     true|{false, Thu Jun 0...|\n",
            "|        NULL|       NULL|Mon Feb 03 18:32:...|{[], NULL, [], [{...|                NULL|             0|    false|NULL|1224400359831101442|1224400359831101442|                   NULL|                 NULL|                     NULL|               NULL|                   NULL|          false|  en| {en, recent}|{{[[[-6.791799, 5...|             false|                NULL|               NULL|                NULL|            0|    false|                NULL|<a href=\"http://t...|Wicklow Harbour, ...|     true|{false, Sat May 2...|\n",
            "|        NULL|       NULL|Mon Feb 03 18:20:...|{[], NULL, [], [{...|                NULL|             1|    false|NULL|1224397150878158848|1224397150878158848|               hugysmum|  1224362201076707335|      1224362201076707335|         3851960074|             3851960074|          false|  en| {en, recent}|                NULL|              NULL|                NULL|               NULL|                NULL|            0|    false|                NULL|<a href=\"http://t...|@hugysmum @metoff...|     true|{false, Fri May 0...|\n",
            "|        NULL|       NULL|Mon Feb 03 18:19:...|{[{[72, 81], scot...|                NULL|             0|    false|NULL|1224397086763950080|1224397086763950080|                   NULL|                 NULL|                     NULL|               NULL|                   NULL|          false|  en| {en, recent}|                NULL|              NULL|                NULL|               NULL|                NULL|          164|    false|{NULL, NULL, Sat ...|<a href=\"http://t...|RT @AbhaPaulina: ...|    false|{false, Tue Jan 2...|\n",
            "|        NULL|       NULL|Mon Feb 03 18:18:...|{[], NULL, [], []...|                NULL|             1|    false|NULL|1224396785143119873|1224396785143119873|               hugysmum|  1224388916008169474|      1224388916008169474|         3851960074|             3851960074|          false| und|{und, recent}|                NULL|              NULL|                NULL|               NULL|                NULL|            0|    false|                NULL|<a href=\"http://t...|@hugysmum @metoff...|    false|{false, Fri May 0...|\n",
            "|        NULL|       NULL|Mon Feb 03 18:08:...|{[{[107, 116], St...|                NULL|             0|    false|NULL|1224394229906055169|1224394229906055169|                   NULL|                 NULL|                     NULL|               NULL|                   NULL|          false|  en| {en, recent}|                NULL|              NULL|                NULL|               NULL|                NULL|            3|    false|{NULL, NULL, Mon ...|<a href=\"https://...|RT @frasergj: A s...|    false|{false, Sat Mar 1...|\n",
            "+------------+-----------+--------------------+--------------------+--------------------+--------------+---------+----+-------------------+-------------------+-----------------------+---------------------+-------------------------+-------------------+-----------------------+---------------+----+-------------+--------------------+------------------+--------------------+-------------------+--------------------+-------------+---------+--------------------+--------------------+--------------------+---------+--------------------+\n",
            "only showing top 40 rows\n",
            "\n"
          ]
        }
      ]
    },
    {
      "cell_type": "code",
      "source": [
        "df.printSchema()"
      ],
      "metadata": {
        "colab": {
          "base_uri": "https://localhost:8080/"
        },
        "id": "sqUi8PB7gbws",
        "outputId": "12f7e664-cb69-48bd-d5f8-79d0e7884a2a"
      },
      "execution_count": 22,
      "outputs": [
        {
          "output_type": "stream",
          "name": "stdout",
          "text": [
            "root\n",
            " |-- contributors: string (nullable = true)\n",
            " |-- coordinates: string (nullable = true)\n",
            " |-- created_at: string (nullable = true)\n",
            " |-- entities: struct (nullable = true)\n",
            " |    |-- hashtags: array (nullable = true)\n",
            " |    |    |-- element: struct (containsNull = true)\n",
            " |    |    |    |-- indices: array (nullable = true)\n",
            " |    |    |    |    |-- element: long (containsNull = true)\n",
            " |    |    |    |-- text: string (nullable = true)\n",
            " |    |-- media: array (nullable = true)\n",
            " |    |    |-- element: struct (containsNull = true)\n",
            " |    |    |    |-- display_url: string (nullable = true)\n",
            " |    |    |    |-- expanded_url: string (nullable = true)\n",
            " |    |    |    |-- id: long (nullable = true)\n",
            " |    |    |    |-- id_str: string (nullable = true)\n",
            " |    |    |    |-- indices: array (nullable = true)\n",
            " |    |    |    |    |-- element: long (containsNull = true)\n",
            " |    |    |    |-- media_url: string (nullable = true)\n",
            " |    |    |    |-- media_url_https: string (nullable = true)\n",
            " |    |    |    |-- sizes: struct (nullable = true)\n",
            " |    |    |    |    |-- large: struct (nullable = true)\n",
            " |    |    |    |    |    |-- h: long (nullable = true)\n",
            " |    |    |    |    |    |-- resize: string (nullable = true)\n",
            " |    |    |    |    |    |-- w: long (nullable = true)\n",
            " |    |    |    |    |-- medium: struct (nullable = true)\n",
            " |    |    |    |    |    |-- h: long (nullable = true)\n",
            " |    |    |    |    |    |-- resize: string (nullable = true)\n",
            " |    |    |    |    |    |-- w: long (nullable = true)\n",
            " |    |    |    |    |-- small: struct (nullable = true)\n",
            " |    |    |    |    |    |-- h: long (nullable = true)\n",
            " |    |    |    |    |    |-- resize: string (nullable = true)\n",
            " |    |    |    |    |    |-- w: long (nullable = true)\n",
            " |    |    |    |    |-- thumb: struct (nullable = true)\n",
            " |    |    |    |    |    |-- h: long (nullable = true)\n",
            " |    |    |    |    |    |-- resize: string (nullable = true)\n",
            " |    |    |    |    |    |-- w: long (nullable = true)\n",
            " |    |    |    |-- type: string (nullable = true)\n",
            " |    |    |    |-- url: string (nullable = true)\n",
            " |    |-- symbols: array (nullable = true)\n",
            " |    |    |-- element: string (containsNull = true)\n",
            " |    |-- urls: array (nullable = true)\n",
            " |    |    |-- element: struct (containsNull = true)\n",
            " |    |    |    |-- display_url: string (nullable = true)\n",
            " |    |    |    |-- expanded_url: string (nullable = true)\n",
            " |    |    |    |-- indices: array (nullable = true)\n",
            " |    |    |    |    |-- element: long (containsNull = true)\n",
            " |    |    |    |-- url: string (nullable = true)\n",
            " |    |-- user_mentions: array (nullable = true)\n",
            " |    |    |-- element: struct (containsNull = true)\n",
            " |    |    |    |-- id: long (nullable = true)\n",
            " |    |    |    |-- id_str: string (nullable = true)\n",
            " |    |    |    |-- indices: array (nullable = true)\n",
            " |    |    |    |    |-- element: long (containsNull = true)\n",
            " |    |    |    |-- name: string (nullable = true)\n",
            " |    |    |    |-- screen_name: string (nullable = true)\n",
            " |-- extended_entities: struct (nullable = true)\n",
            " |    |-- media: array (nullable = true)\n",
            " |    |    |-- element: struct (containsNull = true)\n",
            " |    |    |    |-- additional_media_info: struct (nullable = true)\n",
            " |    |    |    |    |-- monetizable: boolean (nullable = true)\n",
            " |    |    |    |-- display_url: string (nullable = true)\n",
            " |    |    |    |-- expanded_url: string (nullable = true)\n",
            " |    |    |    |-- id: long (nullable = true)\n",
            " |    |    |    |-- id_str: string (nullable = true)\n",
            " |    |    |    |-- indices: array (nullable = true)\n",
            " |    |    |    |    |-- element: long (containsNull = true)\n",
            " |    |    |    |-- media_url: string (nullable = true)\n",
            " |    |    |    |-- media_url_https: string (nullable = true)\n",
            " |    |    |    |-- sizes: struct (nullable = true)\n",
            " |    |    |    |    |-- large: struct (nullable = true)\n",
            " |    |    |    |    |    |-- h: long (nullable = true)\n",
            " |    |    |    |    |    |-- resize: string (nullable = true)\n",
            " |    |    |    |    |    |-- w: long (nullable = true)\n",
            " |    |    |    |    |-- medium: struct (nullable = true)\n",
            " |    |    |    |    |    |-- h: long (nullable = true)\n",
            " |    |    |    |    |    |-- resize: string (nullable = true)\n",
            " |    |    |    |    |    |-- w: long (nullable = true)\n",
            " |    |    |    |    |-- small: struct (nullable = true)\n",
            " |    |    |    |    |    |-- h: long (nullable = true)\n",
            " |    |    |    |    |    |-- resize: string (nullable = true)\n",
            " |    |    |    |    |    |-- w: long (nullable = true)\n",
            " |    |    |    |    |-- thumb: struct (nullable = true)\n",
            " |    |    |    |    |    |-- h: long (nullable = true)\n",
            " |    |    |    |    |    |-- resize: string (nullable = true)\n",
            " |    |    |    |    |    |-- w: long (nullable = true)\n",
            " |    |    |    |-- type: string (nullable = true)\n",
            " |    |    |    |-- url: string (nullable = true)\n",
            " |    |    |    |-- video_info: struct (nullable = true)\n",
            " |    |    |    |    |-- aspect_ratio: array (nullable = true)\n",
            " |    |    |    |    |    |-- element: long (containsNull = true)\n",
            " |    |    |    |    |-- duration_millis: long (nullable = true)\n",
            " |    |    |    |    |-- variants: array (nullable = true)\n",
            " |    |    |    |    |    |-- element: struct (containsNull = true)\n",
            " |    |    |    |    |    |    |-- bitrate: long (nullable = true)\n",
            " |    |    |    |    |    |    |-- content_type: string (nullable = true)\n",
            " |    |    |    |    |    |    |-- url: string (nullable = true)\n",
            " |-- favorite_count: long (nullable = true)\n",
            " |-- favorited: boolean (nullable = true)\n",
            " |-- geo: string (nullable = true)\n",
            " |-- id: long (nullable = true)\n",
            " |-- id_str: string (nullable = true)\n",
            " |-- in_reply_to_screen_name: string (nullable = true)\n",
            " |-- in_reply_to_status_id: long (nullable = true)\n",
            " |-- in_reply_to_status_id_str: string (nullable = true)\n",
            " |-- in_reply_to_user_id: long (nullable = true)\n",
            " |-- in_reply_to_user_id_str: string (nullable = true)\n",
            " |-- is_quote_status: boolean (nullable = true)\n",
            " |-- lang: string (nullable = true)\n",
            " |-- metadata: struct (nullable = true)\n",
            " |    |-- iso_language_code: string (nullable = true)\n",
            " |    |-- result_type: string (nullable = true)\n",
            " |-- place: struct (nullable = true)\n",
            " |    |-- bounding_box: struct (nullable = true)\n",
            " |    |    |-- coordinates: array (nullable = true)\n",
            " |    |    |    |-- element: array (containsNull = true)\n",
            " |    |    |    |    |-- element: array (containsNull = true)\n",
            " |    |    |    |    |    |-- element: double (containsNull = true)\n",
            " |    |    |-- type: string (nullable = true)\n",
            " |    |-- contained_within: array (nullable = true)\n",
            " |    |    |-- element: string (containsNull = true)\n",
            " |    |-- country: string (nullable = true)\n",
            " |    |-- country_code: string (nullable = true)\n",
            " |    |-- full_name: string (nullable = true)\n",
            " |    |-- id: string (nullable = true)\n",
            " |    |-- name: string (nullable = true)\n",
            " |    |-- place_type: string (nullable = true)\n",
            " |    |-- url: string (nullable = true)\n",
            " |-- possibly_sensitive: boolean (nullable = true)\n",
            " |-- quoted_status: struct (nullable = true)\n",
            " |    |-- contributors: string (nullable = true)\n",
            " |    |-- coordinates: string (nullable = true)\n",
            " |    |-- created_at: string (nullable = true)\n",
            " |    |-- entities: struct (nullable = true)\n",
            " |    |    |-- hashtags: array (nullable = true)\n",
            " |    |    |    |-- element: struct (containsNull = true)\n",
            " |    |    |    |    |-- indices: array (nullable = true)\n",
            " |    |    |    |    |    |-- element: long (containsNull = true)\n",
            " |    |    |    |    |-- text: string (nullable = true)\n",
            " |    |    |-- media: array (nullable = true)\n",
            " |    |    |    |-- element: struct (containsNull = true)\n",
            " |    |    |    |    |-- display_url: string (nullable = true)\n",
            " |    |    |    |    |-- expanded_url: string (nullable = true)\n",
            " |    |    |    |    |-- id: long (nullable = true)\n",
            " |    |    |    |    |-- id_str: string (nullable = true)\n",
            " |    |    |    |    |-- indices: array (nullable = true)\n",
            " |    |    |    |    |    |-- element: long (containsNull = true)\n",
            " |    |    |    |    |-- media_url: string (nullable = true)\n",
            " |    |    |    |    |-- media_url_https: string (nullable = true)\n",
            " |    |    |    |    |-- sizes: struct (nullable = true)\n",
            " |    |    |    |    |    |-- large: struct (nullable = true)\n",
            " |    |    |    |    |    |    |-- h: long (nullable = true)\n",
            " |    |    |    |    |    |    |-- resize: string (nullable = true)\n",
            " |    |    |    |    |    |    |-- w: long (nullable = true)\n",
            " |    |    |    |    |    |-- medium: struct (nullable = true)\n",
            " |    |    |    |    |    |    |-- h: long (nullable = true)\n",
            " |    |    |    |    |    |    |-- resize: string (nullable = true)\n",
            " |    |    |    |    |    |    |-- w: long (nullable = true)\n",
            " |    |    |    |    |    |-- small: struct (nullable = true)\n",
            " |    |    |    |    |    |    |-- h: long (nullable = true)\n",
            " |    |    |    |    |    |    |-- resize: string (nullable = true)\n",
            " |    |    |    |    |    |    |-- w: long (nullable = true)\n",
            " |    |    |    |    |    |-- thumb: struct (nullable = true)\n",
            " |    |    |    |    |    |    |-- h: long (nullable = true)\n",
            " |    |    |    |    |    |    |-- resize: string (nullable = true)\n",
            " |    |    |    |    |    |    |-- w: long (nullable = true)\n",
            " |    |    |    |    |-- type: string (nullable = true)\n",
            " |    |    |    |    |-- url: string (nullable = true)\n",
            " |    |    |-- symbols: array (nullable = true)\n",
            " |    |    |    |-- element: string (containsNull = true)\n",
            " |    |    |-- urls: array (nullable = true)\n",
            " |    |    |    |-- element: struct (containsNull = true)\n",
            " |    |    |    |    |-- display_url: string (nullable = true)\n",
            " |    |    |    |    |-- expanded_url: string (nullable = true)\n",
            " |    |    |    |    |-- indices: array (nullable = true)\n",
            " |    |    |    |    |    |-- element: long (containsNull = true)\n",
            " |    |    |    |    |-- url: string (nullable = true)\n",
            " |    |    |-- user_mentions: array (nullable = true)\n",
            " |    |    |    |-- element: string (containsNull = true)\n",
            " |    |-- extended_entities: struct (nullable = true)\n",
            " |    |    |-- media: array (nullable = true)\n",
            " |    |    |    |-- element: struct (containsNull = true)\n",
            " |    |    |    |    |-- display_url: string (nullable = true)\n",
            " |    |    |    |    |-- expanded_url: string (nullable = true)\n",
            " |    |    |    |    |-- id: long (nullable = true)\n",
            " |    |    |    |    |-- id_str: string (nullable = true)\n",
            " |    |    |    |    |-- indices: array (nullable = true)\n",
            " |    |    |    |    |    |-- element: long (containsNull = true)\n",
            " |    |    |    |    |-- media_url: string (nullable = true)\n",
            " |    |    |    |    |-- media_url_https: string (nullable = true)\n",
            " |    |    |    |    |-- sizes: struct (nullable = true)\n",
            " |    |    |    |    |    |-- large: struct (nullable = true)\n",
            " |    |    |    |    |    |    |-- h: long (nullable = true)\n",
            " |    |    |    |    |    |    |-- resize: string (nullable = true)\n",
            " |    |    |    |    |    |    |-- w: long (nullable = true)\n",
            " |    |    |    |    |    |-- medium: struct (nullable = true)\n",
            " |    |    |    |    |    |    |-- h: long (nullable = true)\n",
            " |    |    |    |    |    |    |-- resize: string (nullable = true)\n",
            " |    |    |    |    |    |    |-- w: long (nullable = true)\n",
            " |    |    |    |    |    |-- small: struct (nullable = true)\n",
            " |    |    |    |    |    |    |-- h: long (nullable = true)\n",
            " |    |    |    |    |    |    |-- resize: string (nullable = true)\n",
            " |    |    |    |    |    |    |-- w: long (nullable = true)\n",
            " |    |    |    |    |    |-- thumb: struct (nullable = true)\n",
            " |    |    |    |    |    |    |-- h: long (nullable = true)\n",
            " |    |    |    |    |    |    |-- resize: string (nullable = true)\n",
            " |    |    |    |    |    |    |-- w: long (nullable = true)\n",
            " |    |    |    |    |-- type: string (nullable = true)\n",
            " |    |    |    |    |-- url: string (nullable = true)\n",
            " |    |-- favorite_count: long (nullable = true)\n",
            " |    |-- favorited: boolean (nullable = true)\n",
            " |    |-- geo: string (nullable = true)\n",
            " |    |-- id: long (nullable = true)\n",
            " |    |-- id_str: string (nullable = true)\n",
            " |    |-- in_reply_to_screen_name: string (nullable = true)\n",
            " |    |-- in_reply_to_status_id: string (nullable = true)\n",
            " |    |-- in_reply_to_status_id_str: string (nullable = true)\n",
            " |    |-- in_reply_to_user_id: string (nullable = true)\n",
            " |    |-- in_reply_to_user_id_str: string (nullable = true)\n",
            " |    |-- is_quote_status: boolean (nullable = true)\n",
            " |    |-- lang: string (nullable = true)\n",
            " |    |-- metadata: struct (nullable = true)\n",
            " |    |    |-- iso_language_code: string (nullable = true)\n",
            " |    |    |-- result_type: string (nullable = true)\n",
            " |    |-- place: string (nullable = true)\n",
            " |    |-- possibly_sensitive: boolean (nullable = true)\n",
            " |    |-- retweet_count: long (nullable = true)\n",
            " |    |-- retweeted: boolean (nullable = true)\n",
            " |    |-- source: string (nullable = true)\n",
            " |    |-- text: string (nullable = true)\n",
            " |    |-- truncated: boolean (nullable = true)\n",
            " |    |-- user: struct (nullable = true)\n",
            " |    |    |-- contributors_enabled: boolean (nullable = true)\n",
            " |    |    |-- created_at: string (nullable = true)\n",
            " |    |    |-- default_profile: boolean (nullable = true)\n",
            " |    |    |-- default_profile_image: boolean (nullable = true)\n",
            " |    |    |-- description: string (nullable = true)\n",
            " |    |    |-- entities: struct (nullable = true)\n",
            " |    |    |    |-- description: struct (nullable = true)\n",
            " |    |    |    |    |-- urls: array (nullable = true)\n",
            " |    |    |    |    |    |-- element: string (containsNull = true)\n",
            " |    |    |    |-- url: struct (nullable = true)\n",
            " |    |    |    |    |-- urls: array (nullable = true)\n",
            " |    |    |    |    |    |-- element: struct (containsNull = true)\n",
            " |    |    |    |    |    |    |-- display_url: string (nullable = true)\n",
            " |    |    |    |    |    |    |-- expanded_url: string (nullable = true)\n",
            " |    |    |    |    |    |    |-- indices: array (nullable = true)\n",
            " |    |    |    |    |    |    |    |-- element: long (containsNull = true)\n",
            " |    |    |    |    |    |    |-- url: string (nullable = true)\n",
            " |    |    |-- favourites_count: long (nullable = true)\n",
            " |    |    |-- follow_request_sent: boolean (nullable = true)\n",
            " |    |    |-- followers_count: long (nullable = true)\n",
            " |    |    |-- following: boolean (nullable = true)\n",
            " |    |    |-- friends_count: long (nullable = true)\n",
            " |    |    |-- geo_enabled: boolean (nullable = true)\n",
            " |    |    |-- has_extended_profile: boolean (nullable = true)\n",
            " |    |    |-- id: long (nullable = true)\n",
            " |    |    |-- id_str: string (nullable = true)\n",
            " |    |    |-- is_translation_enabled: boolean (nullable = true)\n",
            " |    |    |-- is_translator: boolean (nullable = true)\n",
            " |    |    |-- lang: string (nullable = true)\n",
            " |    |    |-- listed_count: long (nullable = true)\n",
            " |    |    |-- location: string (nullable = true)\n",
            " |    |    |-- name: string (nullable = true)\n",
            " |    |    |-- notifications: boolean (nullable = true)\n",
            " |    |    |-- profile_background_color: string (nullable = true)\n",
            " |    |    |-- profile_background_image_url: string (nullable = true)\n",
            " |    |    |-- profile_background_image_url_https: string (nullable = true)\n",
            " |    |    |-- profile_background_tile: boolean (nullable = true)\n",
            " |    |    |-- profile_banner_url: string (nullable = true)\n",
            " |    |    |-- profile_image_url: string (nullable = true)\n",
            " |    |    |-- profile_image_url_https: string (nullable = true)\n",
            " |    |    |-- profile_link_color: string (nullable = true)\n",
            " |    |    |-- profile_sidebar_border_color: string (nullable = true)\n",
            " |    |    |-- profile_sidebar_fill_color: string (nullable = true)\n",
            " |    |    |-- profile_text_color: string (nullable = true)\n",
            " |    |    |-- profile_use_background_image: boolean (nullable = true)\n",
            " |    |    |-- protected: boolean (nullable = true)\n",
            " |    |    |-- screen_name: string (nullable = true)\n",
            " |    |    |-- statuses_count: long (nullable = true)\n",
            " |    |    |-- time_zone: string (nullable = true)\n",
            " |    |    |-- translator_type: string (nullable = true)\n",
            " |    |    |-- url: string (nullable = true)\n",
            " |    |    |-- utc_offset: string (nullable = true)\n",
            " |    |    |-- verified: boolean (nullable = true)\n",
            " |-- quoted_status_id: long (nullable = true)\n",
            " |-- quoted_status_id_str: string (nullable = true)\n",
            " |-- retweet_count: long (nullable = true)\n",
            " |-- retweeted: boolean (nullable = true)\n",
            " |-- retweeted_status: struct (nullable = true)\n",
            " |    |-- contributors: string (nullable = true)\n",
            " |    |-- coordinates: string (nullable = true)\n",
            " |    |-- created_at: string (nullable = true)\n",
            " |    |-- entities: struct (nullable = true)\n",
            " |    |    |-- hashtags: array (nullable = true)\n",
            " |    |    |    |-- element: struct (containsNull = true)\n",
            " |    |    |    |    |-- indices: array (nullable = true)\n",
            " |    |    |    |    |    |-- element: long (containsNull = true)\n",
            " |    |    |    |    |-- text: string (nullable = true)\n",
            " |    |    |-- media: array (nullable = true)\n",
            " |    |    |    |-- element: struct (containsNull = true)\n",
            " |    |    |    |    |-- display_url: string (nullable = true)\n",
            " |    |    |    |    |-- expanded_url: string (nullable = true)\n",
            " |    |    |    |    |-- id: long (nullable = true)\n",
            " |    |    |    |    |-- id_str: string (nullable = true)\n",
            " |    |    |    |    |-- indices: array (nullable = true)\n",
            " |    |    |    |    |    |-- element: long (containsNull = true)\n",
            " |    |    |    |    |-- media_url: string (nullable = true)\n",
            " |    |    |    |    |-- media_url_https: string (nullable = true)\n",
            " |    |    |    |    |-- sizes: struct (nullable = true)\n",
            " |    |    |    |    |    |-- large: struct (nullable = true)\n",
            " |    |    |    |    |    |    |-- h: long (nullable = true)\n",
            " |    |    |    |    |    |    |-- resize: string (nullable = true)\n",
            " |    |    |    |    |    |    |-- w: long (nullable = true)\n",
            " |    |    |    |    |    |-- medium: struct (nullable = true)\n",
            " |    |    |    |    |    |    |-- h: long (nullable = true)\n",
            " |    |    |    |    |    |    |-- resize: string (nullable = true)\n",
            " |    |    |    |    |    |    |-- w: long (nullable = true)\n",
            " |    |    |    |    |    |-- small: struct (nullable = true)\n",
            " |    |    |    |    |    |    |-- h: long (nullable = true)\n",
            " |    |    |    |    |    |    |-- resize: string (nullable = true)\n",
            " |    |    |    |    |    |    |-- w: long (nullable = true)\n",
            " |    |    |    |    |    |-- thumb: struct (nullable = true)\n",
            " |    |    |    |    |    |    |-- h: long (nullable = true)\n",
            " |    |    |    |    |    |    |-- resize: string (nullable = true)\n",
            " |    |    |    |    |    |    |-- w: long (nullable = true)\n",
            " |    |    |    |    |-- type: string (nullable = true)\n",
            " |    |    |    |    |-- url: string (nullable = true)\n",
            " |    |    |-- symbols: array (nullable = true)\n",
            " |    |    |    |-- element: string (containsNull = true)\n",
            " |    |    |-- urls: array (nullable = true)\n",
            " |    |    |    |-- element: struct (containsNull = true)\n",
            " |    |    |    |    |-- display_url: string (nullable = true)\n",
            " |    |    |    |    |-- expanded_url: string (nullable = true)\n",
            " |    |    |    |    |-- indices: array (nullable = true)\n",
            " |    |    |    |    |    |-- element: long (containsNull = true)\n",
            " |    |    |    |    |-- url: string (nullable = true)\n",
            " |    |    |-- user_mentions: array (nullable = true)\n",
            " |    |    |    |-- element: struct (containsNull = true)\n",
            " |    |    |    |    |-- id: long (nullable = true)\n",
            " |    |    |    |    |-- id_str: string (nullable = true)\n",
            " |    |    |    |    |-- indices: array (nullable = true)\n",
            " |    |    |    |    |    |-- element: long (containsNull = true)\n",
            " |    |    |    |    |-- name: string (nullable = true)\n",
            " |    |    |    |    |-- screen_name: string (nullable = true)\n",
            " |    |-- extended_entities: struct (nullable = true)\n",
            " |    |    |-- media: array (nullable = true)\n",
            " |    |    |    |-- element: struct (containsNull = true)\n",
            " |    |    |    |    |-- display_url: string (nullable = true)\n",
            " |    |    |    |    |-- expanded_url: string (nullable = true)\n",
            " |    |    |    |    |-- id: long (nullable = true)\n",
            " |    |    |    |    |-- id_str: string (nullable = true)\n",
            " |    |    |    |    |-- indices: array (nullable = true)\n",
            " |    |    |    |    |    |-- element: long (containsNull = true)\n",
            " |    |    |    |    |-- media_url: string (nullable = true)\n",
            " |    |    |    |    |-- media_url_https: string (nullable = true)\n",
            " |    |    |    |    |-- sizes: struct (nullable = true)\n",
            " |    |    |    |    |    |-- large: struct (nullable = true)\n",
            " |    |    |    |    |    |    |-- h: long (nullable = true)\n",
            " |    |    |    |    |    |    |-- resize: string (nullable = true)\n",
            " |    |    |    |    |    |    |-- w: long (nullable = true)\n",
            " |    |    |    |    |    |-- medium: struct (nullable = true)\n",
            " |    |    |    |    |    |    |-- h: long (nullable = true)\n",
            " |    |    |    |    |    |    |-- resize: string (nullable = true)\n",
            " |    |    |    |    |    |    |-- w: long (nullable = true)\n",
            " |    |    |    |    |    |-- small: struct (nullable = true)\n",
            " |    |    |    |    |    |    |-- h: long (nullable = true)\n",
            " |    |    |    |    |    |    |-- resize: string (nullable = true)\n",
            " |    |    |    |    |    |    |-- w: long (nullable = true)\n",
            " |    |    |    |    |    |-- thumb: struct (nullable = true)\n",
            " |    |    |    |    |    |    |-- h: long (nullable = true)\n",
            " |    |    |    |    |    |    |-- resize: string (nullable = true)\n",
            " |    |    |    |    |    |    |-- w: long (nullable = true)\n",
            " |    |    |    |    |-- type: string (nullable = true)\n",
            " |    |    |    |    |-- url: string (nullable = true)\n",
            " |    |-- favorite_count: long (nullable = true)\n",
            " |    |-- favorited: boolean (nullable = true)\n",
            " |    |-- geo: string (nullable = true)\n",
            " |    |-- id: long (nullable = true)\n",
            " |    |-- id_str: string (nullable = true)\n",
            " |    |-- in_reply_to_screen_name: string (nullable = true)\n",
            " |    |-- in_reply_to_status_id: string (nullable = true)\n",
            " |    |-- in_reply_to_status_id_str: string (nullable = true)\n",
            " |    |-- in_reply_to_user_id: string (nullable = true)\n",
            " |    |-- in_reply_to_user_id_str: string (nullable = true)\n",
            " |    |-- is_quote_status: boolean (nullable = true)\n",
            " |    |-- lang: string (nullable = true)\n",
            " |    |-- metadata: struct (nullable = true)\n",
            " |    |    |-- iso_language_code: string (nullable = true)\n",
            " |    |    |-- result_type: string (nullable = true)\n",
            " |    |-- place: struct (nullable = true)\n",
            " |    |    |-- bounding_box: struct (nullable = true)\n",
            " |    |    |    |-- coordinates: array (nullable = true)\n",
            " |    |    |    |    |-- element: array (containsNull = true)\n",
            " |    |    |    |    |    |-- element: array (containsNull = true)\n",
            " |    |    |    |    |    |    |-- element: double (containsNull = true)\n",
            " |    |    |    |-- type: string (nullable = true)\n",
            " |    |    |-- contained_within: array (nullable = true)\n",
            " |    |    |    |-- element: string (containsNull = true)\n",
            " |    |    |-- country: string (nullable = true)\n",
            " |    |    |-- country_code: string (nullable = true)\n",
            " |    |    |-- full_name: string (nullable = true)\n",
            " |    |    |-- id: string (nullable = true)\n",
            " |    |    |-- name: string (nullable = true)\n",
            " |    |    |-- place_type: string (nullable = true)\n",
            " |    |    |-- url: string (nullable = true)\n",
            " |    |-- possibly_sensitive: boolean (nullable = true)\n",
            " |    |-- quoted_status: struct (nullable = true)\n",
            " |    |    |-- contributors: string (nullable = true)\n",
            " |    |    |-- coordinates: string (nullable = true)\n",
            " |    |    |-- created_at: string (nullable = true)\n",
            " |    |    |-- entities: struct (nullable = true)\n",
            " |    |    |    |-- hashtags: array (nullable = true)\n",
            " |    |    |    |    |-- element: struct (containsNull = true)\n",
            " |    |    |    |    |    |-- indices: array (nullable = true)\n",
            " |    |    |    |    |    |    |-- element: long (containsNull = true)\n",
            " |    |    |    |    |    |-- text: string (nullable = true)\n",
            " |    |    |    |-- media: array (nullable = true)\n",
            " |    |    |    |    |-- element: struct (containsNull = true)\n",
            " |    |    |    |    |    |-- display_url: string (nullable = true)\n",
            " |    |    |    |    |    |-- expanded_url: string (nullable = true)\n",
            " |    |    |    |    |    |-- id: long (nullable = true)\n",
            " |    |    |    |    |    |-- id_str: string (nullable = true)\n",
            " |    |    |    |    |    |-- indices: array (nullable = true)\n",
            " |    |    |    |    |    |    |-- element: long (containsNull = true)\n",
            " |    |    |    |    |    |-- media_url: string (nullable = true)\n",
            " |    |    |    |    |    |-- media_url_https: string (nullable = true)\n",
            " |    |    |    |    |    |-- sizes: struct (nullable = true)\n",
            " |    |    |    |    |    |    |-- large: struct (nullable = true)\n",
            " |    |    |    |    |    |    |    |-- h: long (nullable = true)\n",
            " |    |    |    |    |    |    |    |-- resize: string (nullable = true)\n",
            " |    |    |    |    |    |    |    |-- w: long (nullable = true)\n",
            " |    |    |    |    |    |    |-- medium: struct (nullable = true)\n",
            " |    |    |    |    |    |    |    |-- h: long (nullable = true)\n",
            " |    |    |    |    |    |    |    |-- resize: string (nullable = true)\n",
            " |    |    |    |    |    |    |    |-- w: long (nullable = true)\n",
            " |    |    |    |    |    |    |-- small: struct (nullable = true)\n",
            " |    |    |    |    |    |    |    |-- h: long (nullable = true)\n",
            " |    |    |    |    |    |    |    |-- resize: string (nullable = true)\n",
            " |    |    |    |    |    |    |    |-- w: long (nullable = true)\n",
            " |    |    |    |    |    |    |-- thumb: struct (nullable = true)\n",
            " |    |    |    |    |    |    |    |-- h: long (nullable = true)\n",
            " |    |    |    |    |    |    |    |-- resize: string (nullable = true)\n",
            " |    |    |    |    |    |    |    |-- w: long (nullable = true)\n",
            " |    |    |    |    |    |-- type: string (nullable = true)\n",
            " |    |    |    |    |    |-- url: string (nullable = true)\n",
            " |    |    |    |-- symbols: array (nullable = true)\n",
            " |    |    |    |    |-- element: string (containsNull = true)\n",
            " |    |    |    |-- urls: array (nullable = true)\n",
            " |    |    |    |    |-- element: struct (containsNull = true)\n",
            " |    |    |    |    |    |-- display_url: string (nullable = true)\n",
            " |    |    |    |    |    |-- expanded_url: string (nullable = true)\n",
            " |    |    |    |    |    |-- indices: array (nullable = true)\n",
            " |    |    |    |    |    |    |-- element: long (containsNull = true)\n",
            " |    |    |    |    |    |-- url: string (nullable = true)\n",
            " |    |    |    |-- user_mentions: array (nullable = true)\n",
            " |    |    |    |    |-- element: string (containsNull = true)\n",
            " |    |    |-- extended_entities: struct (nullable = true)\n",
            " |    |    |    |-- media: array (nullable = true)\n",
            " |    |    |    |    |-- element: struct (containsNull = true)\n",
            " |    |    |    |    |    |-- display_url: string (nullable = true)\n",
            " |    |    |    |    |    |-- expanded_url: string (nullable = true)\n",
            " |    |    |    |    |    |-- id: long (nullable = true)\n",
            " |    |    |    |    |    |-- id_str: string (nullable = true)\n",
            " |    |    |    |    |    |-- indices: array (nullable = true)\n",
            " |    |    |    |    |    |    |-- element: long (containsNull = true)\n",
            " |    |    |    |    |    |-- media_url: string (nullable = true)\n",
            " |    |    |    |    |    |-- media_url_https: string (nullable = true)\n",
            " |    |    |    |    |    |-- sizes: struct (nullable = true)\n",
            " |    |    |    |    |    |    |-- large: struct (nullable = true)\n",
            " |    |    |    |    |    |    |    |-- h: long (nullable = true)\n",
            " |    |    |    |    |    |    |    |-- resize: string (nullable = true)\n",
            " |    |    |    |    |    |    |    |-- w: long (nullable = true)\n",
            " |    |    |    |    |    |    |-- medium: struct (nullable = true)\n",
            " |    |    |    |    |    |    |    |-- h: long (nullable = true)\n",
            " |    |    |    |    |    |    |    |-- resize: string (nullable = true)\n",
            " |    |    |    |    |    |    |    |-- w: long (nullable = true)\n",
            " |    |    |    |    |    |    |-- small: struct (nullable = true)\n",
            " |    |    |    |    |    |    |    |-- h: long (nullable = true)\n",
            " |    |    |    |    |    |    |    |-- resize: string (nullable = true)\n",
            " |    |    |    |    |    |    |    |-- w: long (nullable = true)\n",
            " |    |    |    |    |    |    |-- thumb: struct (nullable = true)\n",
            " |    |    |    |    |    |    |    |-- h: long (nullable = true)\n",
            " |    |    |    |    |    |    |    |-- resize: string (nullable = true)\n",
            " |    |    |    |    |    |    |    |-- w: long (nullable = true)\n",
            " |    |    |    |    |    |-- type: string (nullable = true)\n",
            " |    |    |    |    |    |-- url: string (nullable = true)\n",
            " |    |    |-- favorite_count: long (nullable = true)\n",
            " |    |    |-- favorited: boolean (nullable = true)\n",
            " |    |    |-- geo: string (nullable = true)\n",
            " |    |    |-- id: long (nullable = true)\n",
            " |    |    |-- id_str: string (nullable = true)\n",
            " |    |    |-- in_reply_to_screen_name: string (nullable = true)\n",
            " |    |    |-- in_reply_to_status_id: string (nullable = true)\n",
            " |    |    |-- in_reply_to_status_id_str: string (nullable = true)\n",
            " |    |    |-- in_reply_to_user_id: string (nullable = true)\n",
            " |    |    |-- in_reply_to_user_id_str: string (nullable = true)\n",
            " |    |    |-- is_quote_status: boolean (nullable = true)\n",
            " |    |    |-- lang: string (nullable = true)\n",
            " |    |    |-- metadata: struct (nullable = true)\n",
            " |    |    |    |-- iso_language_code: string (nullable = true)\n",
            " |    |    |    |-- result_type: string (nullable = true)\n",
            " |    |    |-- place: string (nullable = true)\n",
            " |    |    |-- possibly_sensitive: boolean (nullable = true)\n",
            " |    |    |-- retweet_count: long (nullable = true)\n",
            " |    |    |-- retweeted: boolean (nullable = true)\n",
            " |    |    |-- source: string (nullable = true)\n",
            " |    |    |-- text: string (nullable = true)\n",
            " |    |    |-- truncated: boolean (nullable = true)\n",
            " |    |    |-- user: struct (nullable = true)\n",
            " |    |    |    |-- contributors_enabled: boolean (nullable = true)\n",
            " |    |    |    |-- created_at: string (nullable = true)\n",
            " |    |    |    |-- default_profile: boolean (nullable = true)\n",
            " |    |    |    |-- default_profile_image: boolean (nullable = true)\n",
            " |    |    |    |-- description: string (nullable = true)\n",
            " |    |    |    |-- entities: struct (nullable = true)\n",
            " |    |    |    |    |-- description: struct (nullable = true)\n",
            " |    |    |    |    |    |-- urls: array (nullable = true)\n",
            " |    |    |    |    |    |    |-- element: string (containsNull = true)\n",
            " |    |    |    |    |-- url: struct (nullable = true)\n",
            " |    |    |    |    |    |-- urls: array (nullable = true)\n",
            " |    |    |    |    |    |    |-- element: struct (containsNull = true)\n",
            " |    |    |    |    |    |    |    |-- display_url: string (nullable = true)\n",
            " |    |    |    |    |    |    |    |-- expanded_url: string (nullable = true)\n",
            " |    |    |    |    |    |    |    |-- indices: array (nullable = true)\n",
            " |    |    |    |    |    |    |    |    |-- element: long (containsNull = true)\n",
            " |    |    |    |    |    |    |    |-- url: string (nullable = true)\n",
            " |    |    |    |-- favourites_count: long (nullable = true)\n",
            " |    |    |    |-- follow_request_sent: boolean (nullable = true)\n",
            " |    |    |    |-- followers_count: long (nullable = true)\n",
            " |    |    |    |-- following: boolean (nullable = true)\n",
            " |    |    |    |-- friends_count: long (nullable = true)\n",
            " |    |    |    |-- geo_enabled: boolean (nullable = true)\n",
            " |    |    |    |-- has_extended_profile: boolean (nullable = true)\n",
            " |    |    |    |-- id: long (nullable = true)\n",
            " |    |    |    |-- id_str: string (nullable = true)\n",
            " |    |    |    |-- is_translation_enabled: boolean (nullable = true)\n",
            " |    |    |    |-- is_translator: boolean (nullable = true)\n",
            " |    |    |    |-- lang: string (nullable = true)\n",
            " |    |    |    |-- listed_count: long (nullable = true)\n",
            " |    |    |    |-- location: string (nullable = true)\n",
            " |    |    |    |-- name: string (nullable = true)\n",
            " |    |    |    |-- notifications: boolean (nullable = true)\n",
            " |    |    |    |-- profile_background_color: string (nullable = true)\n",
            " |    |    |    |-- profile_background_image_url: string (nullable = true)\n",
            " |    |    |    |-- profile_background_image_url_https: string (nullable = true)\n",
            " |    |    |    |-- profile_background_tile: boolean (nullable = true)\n",
            " |    |    |    |-- profile_banner_url: string (nullable = true)\n",
            " |    |    |    |-- profile_image_url: string (nullable = true)\n",
            " |    |    |    |-- profile_image_url_https: string (nullable = true)\n",
            " |    |    |    |-- profile_link_color: string (nullable = true)\n",
            " |    |    |    |-- profile_sidebar_border_color: string (nullable = true)\n",
            " |    |    |    |-- profile_sidebar_fill_color: string (nullable = true)\n",
            " |    |    |    |-- profile_text_color: string (nullable = true)\n",
            " |    |    |    |-- profile_use_background_image: boolean (nullable = true)\n",
            " |    |    |    |-- protected: boolean (nullable = true)\n",
            " |    |    |    |-- screen_name: string (nullable = true)\n",
            " |    |    |    |-- statuses_count: long (nullable = true)\n",
            " |    |    |    |-- time_zone: string (nullable = true)\n",
            " |    |    |    |-- translator_type: string (nullable = true)\n",
            " |    |    |    |-- url: string (nullable = true)\n",
            " |    |    |    |-- utc_offset: string (nullable = true)\n",
            " |    |    |    |-- verified: boolean (nullable = true)\n",
            " |    |-- quoted_status_id: long (nullable = true)\n",
            " |    |-- quoted_status_id_str: string (nullable = true)\n",
            " |    |-- retweet_count: long (nullable = true)\n",
            " |    |-- retweeted: boolean (nullable = true)\n",
            " |    |-- source: string (nullable = true)\n",
            " |    |-- text: string (nullable = true)\n",
            " |    |-- truncated: boolean (nullable = true)\n",
            " |    |-- user: struct (nullable = true)\n",
            " |    |    |-- contributors_enabled: boolean (nullable = true)\n",
            " |    |    |-- created_at: string (nullable = true)\n",
            " |    |    |-- default_profile: boolean (nullable = true)\n",
            " |    |    |-- default_profile_image: boolean (nullable = true)\n",
            " |    |    |-- description: string (nullable = true)\n",
            " |    |    |-- entities: struct (nullable = true)\n",
            " |    |    |    |-- description: struct (nullable = true)\n",
            " |    |    |    |    |-- urls: array (nullable = true)\n",
            " |    |    |    |    |    |-- element: struct (containsNull = true)\n",
            " |    |    |    |    |    |    |-- display_url: string (nullable = true)\n",
            " |    |    |    |    |    |    |-- expanded_url: string (nullable = true)\n",
            " |    |    |    |    |    |    |-- indices: array (nullable = true)\n",
            " |    |    |    |    |    |    |    |-- element: long (containsNull = true)\n",
            " |    |    |    |    |    |    |-- url: string (nullable = true)\n",
            " |    |    |    |-- url: struct (nullable = true)\n",
            " |    |    |    |    |-- urls: array (nullable = true)\n",
            " |    |    |    |    |    |-- element: struct (containsNull = true)\n",
            " |    |    |    |    |    |    |-- display_url: string (nullable = true)\n",
            " |    |    |    |    |    |    |-- expanded_url: string (nullable = true)\n",
            " |    |    |    |    |    |    |-- indices: array (nullable = true)\n",
            " |    |    |    |    |    |    |    |-- element: long (containsNull = true)\n",
            " |    |    |    |    |    |    |-- url: string (nullable = true)\n",
            " |    |    |-- favourites_count: long (nullable = true)\n",
            " |    |    |-- follow_request_sent: boolean (nullable = true)\n",
            " |    |    |-- followers_count: long (nullable = true)\n",
            " |    |    |-- following: boolean (nullable = true)\n",
            " |    |    |-- friends_count: long (nullable = true)\n",
            " |    |    |-- geo_enabled: boolean (nullable = true)\n",
            " |    |    |-- has_extended_profile: boolean (nullable = true)\n",
            " |    |    |-- id: long (nullable = true)\n",
            " |    |    |-- id_str: string (nullable = true)\n",
            " |    |    |-- is_translation_enabled: boolean (nullable = true)\n",
            " |    |    |-- is_translator: boolean (nullable = true)\n",
            " |    |    |-- lang: string (nullable = true)\n",
            " |    |    |-- listed_count: long (nullable = true)\n",
            " |    |    |-- location: string (nullable = true)\n",
            " |    |    |-- name: string (nullable = true)\n",
            " |    |    |-- notifications: boolean (nullable = true)\n",
            " |    |    |-- profile_background_color: string (nullable = true)\n",
            " |    |    |-- profile_background_image_url: string (nullable = true)\n",
            " |    |    |-- profile_background_image_url_https: string (nullable = true)\n",
            " |    |    |-- profile_background_tile: boolean (nullable = true)\n",
            " |    |    |-- profile_banner_url: string (nullable = true)\n",
            " |    |    |-- profile_image_url: string (nullable = true)\n",
            " |    |    |-- profile_image_url_https: string (nullable = true)\n",
            " |    |    |-- profile_link_color: string (nullable = true)\n",
            " |    |    |-- profile_sidebar_border_color: string (nullable = true)\n",
            " |    |    |-- profile_sidebar_fill_color: string (nullable = true)\n",
            " |    |    |-- profile_text_color: string (nullable = true)\n",
            " |    |    |-- profile_use_background_image: boolean (nullable = true)\n",
            " |    |    |-- protected: boolean (nullable = true)\n",
            " |    |    |-- screen_name: string (nullable = true)\n",
            " |    |    |-- statuses_count: long (nullable = true)\n",
            " |    |    |-- time_zone: string (nullable = true)\n",
            " |    |    |-- translator_type: string (nullable = true)\n",
            " |    |    |-- url: string (nullable = true)\n",
            " |    |    |-- utc_offset: string (nullable = true)\n",
            " |    |    |-- verified: boolean (nullable = true)\n",
            " |-- source: string (nullable = true)\n",
            " |-- text: string (nullable = true)\n",
            " |-- truncated: boolean (nullable = true)\n",
            " |-- user: struct (nullable = true)\n",
            " |    |-- contributors_enabled: boolean (nullable = true)\n",
            " |    |-- created_at: string (nullable = true)\n",
            " |    |-- default_profile: boolean (nullable = true)\n",
            " |    |-- default_profile_image: boolean (nullable = true)\n",
            " |    |-- description: string (nullable = true)\n",
            " |    |-- entities: struct (nullable = true)\n",
            " |    |    |-- description: struct (nullable = true)\n",
            " |    |    |    |-- urls: array (nullable = true)\n",
            " |    |    |    |    |-- element: struct (containsNull = true)\n",
            " |    |    |    |    |    |-- display_url: string (nullable = true)\n",
            " |    |    |    |    |    |-- expanded_url: string (nullable = true)\n",
            " |    |    |    |    |    |-- indices: array (nullable = true)\n",
            " |    |    |    |    |    |    |-- element: long (containsNull = true)\n",
            " |    |    |    |    |    |-- url: string (nullable = true)\n",
            " |    |    |-- url: struct (nullable = true)\n",
            " |    |    |    |-- urls: array (nullable = true)\n",
            " |    |    |    |    |-- element: struct (containsNull = true)\n",
            " |    |    |    |    |    |-- display_url: string (nullable = true)\n",
            " |    |    |    |    |    |-- expanded_url: string (nullable = true)\n",
            " |    |    |    |    |    |-- indices: array (nullable = true)\n",
            " |    |    |    |    |    |    |-- element: long (containsNull = true)\n",
            " |    |    |    |    |    |-- url: string (nullable = true)\n",
            " |    |-- favourites_count: long (nullable = true)\n",
            " |    |-- follow_request_sent: boolean (nullable = true)\n",
            " |    |-- followers_count: long (nullable = true)\n",
            " |    |-- following: boolean (nullable = true)\n",
            " |    |-- friends_count: long (nullable = true)\n",
            " |    |-- geo_enabled: boolean (nullable = true)\n",
            " |    |-- has_extended_profile: boolean (nullable = true)\n",
            " |    |-- id: long (nullable = true)\n",
            " |    |-- id_str: string (nullable = true)\n",
            " |    |-- is_translation_enabled: boolean (nullable = true)\n",
            " |    |-- is_translator: boolean (nullable = true)\n",
            " |    |-- lang: string (nullable = true)\n",
            " |    |-- listed_count: long (nullable = true)\n",
            " |    |-- location: string (nullable = true)\n",
            " |    |-- name: string (nullable = true)\n",
            " |    |-- notifications: boolean (nullable = true)\n",
            " |    |-- profile_background_color: string (nullable = true)\n",
            " |    |-- profile_background_image_url: string (nullable = true)\n",
            " |    |-- profile_background_image_url_https: string (nullable = true)\n",
            " |    |-- profile_background_tile: boolean (nullable = true)\n",
            " |    |-- profile_banner_url: string (nullable = true)\n",
            " |    |-- profile_image_url: string (nullable = true)\n",
            " |    |-- profile_image_url_https: string (nullable = true)\n",
            " |    |-- profile_link_color: string (nullable = true)\n",
            " |    |-- profile_sidebar_border_color: string (nullable = true)\n",
            " |    |-- profile_sidebar_fill_color: string (nullable = true)\n",
            " |    |-- profile_text_color: string (nullable = true)\n",
            " |    |-- profile_use_background_image: boolean (nullable = true)\n",
            " |    |-- protected: boolean (nullable = true)\n",
            " |    |-- screen_name: string (nullable = true)\n",
            " |    |-- statuses_count: long (nullable = true)\n",
            " |    |-- time_zone: string (nullable = true)\n",
            " |    |-- translator_type: string (nullable = true)\n",
            " |    |-- url: string (nullable = true)\n",
            " |    |-- utc_offset: string (nullable = true)\n",
            " |    |-- verified: boolean (nullable = true)\n",
            "\n"
          ]
        }
      ]
    },
    {
      "cell_type": "code",
      "source": [
        "df.count()"
      ],
      "metadata": {
        "colab": {
          "base_uri": "https://localhost:8080/"
        },
        "id": "C4nPq2JkgbzH",
        "outputId": "23d1b99a-2b2b-43f0-a430-64c3c1a43fc2"
      },
      "execution_count": 23,
      "outputs": [
        {
          "output_type": "execute_result",
          "data": {
            "text/plain": [
              "250"
            ]
          },
          "metadata": {},
          "execution_count": 23
        }
      ]
    },
    {
      "cell_type": "code",
      "source": [
        "df.first()"
      ],
      "metadata": {
        "colab": {
          "base_uri": "https://localhost:8080/"
        },
        "id": "pSf40etDgb2r",
        "outputId": "30025325-5cba-4a27-c860-b2db6d59f431"
      },
      "execution_count": 24,
      "outputs": [
        {
          "output_type": "execute_result",
          "data": {
            "text/plain": [
              "Row(contributors=None, coordinates=None, created_at='Mon Feb 03 20:02:58 +0000 2020', entities=Row(hashtags=[], media=None, symbols=[], urls=[Row(display_url='twitter.com/i/web/status/1…', expanded_url='https://twitter.com/i/web/status/1224423049782603783', indices=[116, 139], url='https://t.co/NcYieNDbRs')], user_mentions=[Row(id=1139793943032414208, id_str='1139793943032414208', indices=[0, 12], name='Elizabeth B', screen_name='Lillybetmax'), Row(id=20714374, id_str='20714374', indices=[13, 28], name='VisitCairngorms.com', screen_name='VisitCairngrms'), Row(id=16557472, id_str='16557472', indices=[29, 43], name='VisitScotland', screen_name='VisitScotland'), Row(id=132563048, id_str='132563048', indices=[44, 58], name='The Scots Magazine', screen_name='ScotsMagazine'), Row(id=71229689, id_str='71229689', indices=[59, 74], name='BBC Springwatch', screen_name='BBCSpringwatch'), Row(id=23068217, id_str='23068217', indices=[75, 91], name='National Parks UK', screen_name='uknationalparks'), Row(id=142614009, id_str='142614009', indices=[92, 103], name='BBC Weather', screen_name='bbcweather'), Row(id=19282280, id_str='19282280', indices=[104, 114], name='Met Office', screen_name='metoffice')]), extended_entities=None, favorite_count=0, favorited=False, geo=None, id=1224423049782603783, id_str='1224423049782603783', in_reply_to_screen_name='Lillybetmax', in_reply_to_status_id=1224417619173834752, in_reply_to_status_id_str='1224417619173834752', in_reply_to_user_id=1139793943032414208, in_reply_to_user_id_str='1139793943032414208', is_quote_status=False, lang='en', metadata=Row(iso_language_code='en', result_type='recent'), place=None, possibly_sensitive=None, quoted_status=None, quoted_status_id=None, quoted_status_id_str=None, retweet_count=0, retweeted=False, retweeted_status=None, source='<a href=\"http://twitter.com/#!/download/ipad\" rel=\"nofollow\">Twitter for iPad</a>', text='@Lillybetmax @VisitCairngrms @VisitScotland @ScotsMagazine @BBCSpringwatch @uknationalparks @bbcweather @metoffice… https://t.co/NcYieNDbRs', truncated=True, user=Row(contributors_enabled=False, created_at='Wed Aug 29 18:18:11 +0000 2012', default_profile=True, default_profile_image=False, description='Pro. wildlife photographer/guide & author. Workshops & tours in Scotland. Keela clothing partner. Leica ambassador. Occasional TV appearances.', entities=Row(description=Row(urls=[]), url=Row(urls=[Row(display_url='andyhoward.co.uk', expanded_url='http://www.andyhoward.co.uk', indices=[0, 23], url='https://t.co/U3ebR2ttGQ')])), favourites_count=41272, follow_request_sent=False, followers_count=6974, following=False, friends_count=405, geo_enabled=True, has_extended_profile=False, id=789877778, id_str='789877778', is_translation_enabled=False, is_translator=False, lang=None, listed_count=135, location='Highlands of Scotland', name='Andy Howard', notifications=False, profile_background_color='C0DEED', profile_background_image_url='http://abs.twimg.com/images/themes/theme1/bg.png', profile_background_image_url_https='https://abs.twimg.com/images/themes/theme1/bg.png', profile_background_tile=False, profile_banner_url='https://pbs.twimg.com/profile_banners/789877778/1573828811', profile_image_url='http://pbs.twimg.com/profile_images/1071841068604362752/1zZXf46n_normal.jpg', profile_image_url_https='https://pbs.twimg.com/profile_images/1071841068604362752/1zZXf46n_normal.jpg', profile_link_color='1DA1F2', profile_sidebar_border_color='C0DEED', profile_sidebar_fill_color='DDEEF6', profile_text_color='333333', profile_use_background_image=True, protected=False, screen_name='highland_andy', statuses_count=22838, time_zone=None, translator_type='none', url='https://t.co/U3ebR2ttGQ', utc_offset=None, verified=False))"
            ]
          },
          "metadata": {},
          "execution_count": 24
        }
      ]
    },
    {
      "cell_type": "code",
      "source": [
        "df.take(2)"
      ],
      "metadata": {
        "colab": {
          "base_uri": "https://localhost:8080/"
        },
        "id": "rnCsweO5mgPK",
        "outputId": "1bc6dcaf-b523-4a61-8e5e-89105aa93f02"
      },
      "execution_count": 25,
      "outputs": [
        {
          "output_type": "execute_result",
          "data": {
            "text/plain": [
              "[Row(contributors=None, coordinates=None, created_at='Mon Feb 03 20:02:58 +0000 2020', entities=Row(hashtags=[], media=None, symbols=[], urls=[Row(display_url='twitter.com/i/web/status/1…', expanded_url='https://twitter.com/i/web/status/1224423049782603783', indices=[116, 139], url='https://t.co/NcYieNDbRs')], user_mentions=[Row(id=1139793943032414208, id_str='1139793943032414208', indices=[0, 12], name='Elizabeth B', screen_name='Lillybetmax'), Row(id=20714374, id_str='20714374', indices=[13, 28], name='VisitCairngorms.com', screen_name='VisitCairngrms'), Row(id=16557472, id_str='16557472', indices=[29, 43], name='VisitScotland', screen_name='VisitScotland'), Row(id=132563048, id_str='132563048', indices=[44, 58], name='The Scots Magazine', screen_name='ScotsMagazine'), Row(id=71229689, id_str='71229689', indices=[59, 74], name='BBC Springwatch', screen_name='BBCSpringwatch'), Row(id=23068217, id_str='23068217', indices=[75, 91], name='National Parks UK', screen_name='uknationalparks'), Row(id=142614009, id_str='142614009', indices=[92, 103], name='BBC Weather', screen_name='bbcweather'), Row(id=19282280, id_str='19282280', indices=[104, 114], name='Met Office', screen_name='metoffice')]), extended_entities=None, favorite_count=0, favorited=False, geo=None, id=1224423049782603783, id_str='1224423049782603783', in_reply_to_screen_name='Lillybetmax', in_reply_to_status_id=1224417619173834752, in_reply_to_status_id_str='1224417619173834752', in_reply_to_user_id=1139793943032414208, in_reply_to_user_id_str='1139793943032414208', is_quote_status=False, lang='en', metadata=Row(iso_language_code='en', result_type='recent'), place=None, possibly_sensitive=None, quoted_status=None, quoted_status_id=None, quoted_status_id_str=None, retweet_count=0, retweeted=False, retweeted_status=None, source='<a href=\"http://twitter.com/#!/download/ipad\" rel=\"nofollow\">Twitter for iPad</a>', text='@Lillybetmax @VisitCairngrms @VisitScotland @ScotsMagazine @BBCSpringwatch @uknationalparks @bbcweather @metoffice… https://t.co/NcYieNDbRs', truncated=True, user=Row(contributors_enabled=False, created_at='Wed Aug 29 18:18:11 +0000 2012', default_profile=True, default_profile_image=False, description='Pro. wildlife photographer/guide & author. Workshops & tours in Scotland. Keela clothing partner. Leica ambassador. Occasional TV appearances.', entities=Row(description=Row(urls=[]), url=Row(urls=[Row(display_url='andyhoward.co.uk', expanded_url='http://www.andyhoward.co.uk', indices=[0, 23], url='https://t.co/U3ebR2ttGQ')])), favourites_count=41272, follow_request_sent=False, followers_count=6974, following=False, friends_count=405, geo_enabled=True, has_extended_profile=False, id=789877778, id_str='789877778', is_translation_enabled=False, is_translator=False, lang=None, listed_count=135, location='Highlands of Scotland', name='Andy Howard', notifications=False, profile_background_color='C0DEED', profile_background_image_url='http://abs.twimg.com/images/themes/theme1/bg.png', profile_background_image_url_https='https://abs.twimg.com/images/themes/theme1/bg.png', profile_background_tile=False, profile_banner_url='https://pbs.twimg.com/profile_banners/789877778/1573828811', profile_image_url='http://pbs.twimg.com/profile_images/1071841068604362752/1zZXf46n_normal.jpg', profile_image_url_https='https://pbs.twimg.com/profile_images/1071841068604362752/1zZXf46n_normal.jpg', profile_link_color='1DA1F2', profile_sidebar_border_color='C0DEED', profile_sidebar_fill_color='DDEEF6', profile_text_color='333333', profile_use_background_image=True, protected=False, screen_name='highland_andy', statuses_count=22838, time_zone=None, translator_type='none', url='https://t.co/U3ebR2ttGQ', utc_offset=None, verified=False)),\n",
              " Row(contributors=None, coordinates=None, created_at='Mon Feb 03 20:01:53 +0000 2020', entities=Row(hashtags=[], media=None, symbols=[], urls=[], user_mentions=[Row(id=876362002024812545, id_str='876362002024812545', indices=[0, 8], name='Stephen Gorman', screen_name='SGIRE82'), Row(id=20714374, id_str='20714374', indices=[9, 24], name='VisitCairngorms.com', screen_name='VisitCairngrms'), Row(id=16557472, id_str='16557472', indices=[25, 39], name='VisitScotland', screen_name='VisitScotland'), Row(id=132563048, id_str='132563048', indices=[40, 54], name='The Scots Magazine', screen_name='ScotsMagazine'), Row(id=71229689, id_str='71229689', indices=[55, 70], name='BBC Springwatch', screen_name='BBCSpringwatch'), Row(id=23068217, id_str='23068217', indices=[71, 87], name='National Parks UK', screen_name='uknationalparks'), Row(id=142614009, id_str='142614009', indices=[88, 99], name='BBC Weather', screen_name='bbcweather'), Row(id=19282280, id_str='19282280', indices=[100, 110], name='Met Office', screen_name='metoffice'), Row(id=70725281, id_str='70725281', indices=[111, 120], name='BBC Earth', screen_name='BBCEarth'), Row(id=561965658, id_str='561965658', indices=[121, 135], name='Out of Doors', screen_name='BBCOutofDoors')]), extended_entities=None, favorite_count=0, favorited=False, geo=None, id=1224422779614875649, id_str='1224422779614875649', in_reply_to_screen_name='SGIRE82', in_reply_to_status_id=1224415421094400000, in_reply_to_status_id_str='1224415421094400000', in_reply_to_user_id=876362002024812545, in_reply_to_user_id_str='876362002024812545', is_quote_status=False, lang='und', metadata=Row(iso_language_code='und', result_type='recent'), place=None, possibly_sensitive=None, quoted_status=None, quoted_status_id=None, quoted_status_id_str=None, retweet_count=0, retweeted=False, retweeted_status=None, source='<a href=\"http://twitter.com/#!/download/ipad\" rel=\"nofollow\">Twitter for iPad</a>', text='@SGIRE82 @VisitCairngrms @VisitScotland @ScotsMagazine @BBCSpringwatch @uknationalparks @bbcweather @metoffice @BBCEarth @BBCOutofDoors 🙏😊👍', truncated=False, user=Row(contributors_enabled=False, created_at='Wed Aug 29 18:18:11 +0000 2012', default_profile=True, default_profile_image=False, description='Pro. wildlife photographer/guide & author. Workshops & tours in Scotland. Keela clothing partner. Leica ambassador. Occasional TV appearances.', entities=Row(description=Row(urls=[]), url=Row(urls=[Row(display_url='andyhoward.co.uk', expanded_url='http://www.andyhoward.co.uk', indices=[0, 23], url='https://t.co/U3ebR2ttGQ')])), favourites_count=41272, follow_request_sent=False, followers_count=6974, following=False, friends_count=405, geo_enabled=True, has_extended_profile=False, id=789877778, id_str='789877778', is_translation_enabled=False, is_translator=False, lang=None, listed_count=135, location='Highlands of Scotland', name='Andy Howard', notifications=False, profile_background_color='C0DEED', profile_background_image_url='http://abs.twimg.com/images/themes/theme1/bg.png', profile_background_image_url_https='https://abs.twimg.com/images/themes/theme1/bg.png', profile_background_tile=False, profile_banner_url='https://pbs.twimg.com/profile_banners/789877778/1573828811', profile_image_url='http://pbs.twimg.com/profile_images/1071841068604362752/1zZXf46n_normal.jpg', profile_image_url_https='https://pbs.twimg.com/profile_images/1071841068604362752/1zZXf46n_normal.jpg', profile_link_color='1DA1F2', profile_sidebar_border_color='C0DEED', profile_sidebar_fill_color='DDEEF6', profile_text_color='333333', profile_use_background_image=True, protected=False, screen_name='highland_andy', statuses_count=22838, time_zone=None, translator_type='none', url='https://t.co/U3ebR2ttGQ', utc_offset=None, verified=False))]"
            ]
          },
          "metadata": {},
          "execution_count": 25
        }
      ]
    },
    {
      "cell_type": "code",
      "source": [
        "df.describe().show()"
      ],
      "metadata": {
        "colab": {
          "base_uri": "https://localhost:8080/"
        },
        "id": "dG_eLVbSmgSN",
        "outputId": "18ae8f5a-cf4e-44b6-deee-154066bf2d69"
      },
      "execution_count": 26,
      "outputs": [
        {
          "output_type": "stream",
          "name": "stdout",
          "text": [
            "+-------+------------+-----------+--------------------+-----------------+----+--------------------+--------------------+-----------------------+---------------------+-------------------------+--------------------+-----------------------+----+--------------------+--------------------+-----------------+--------------------+--------------------+\n",
            "|summary|contributors|coordinates|          created_at|   favorite_count| geo|                  id|              id_str|in_reply_to_screen_name|in_reply_to_status_id|in_reply_to_status_id_str| in_reply_to_user_id|in_reply_to_user_id_str|lang|    quoted_status_id|quoted_status_id_str|    retweet_count|              source|                text|\n",
            "+-------+------------+-----------+--------------------+-----------------+----+--------------------+--------------------+-----------------------+---------------------+-------------------------+--------------------+-----------------------+----+--------------------+--------------------+-----------------+--------------------+--------------------+\n",
            "|  count|           0|          0|                 250|              250|   0|                 250|                 250|                     79|                   71|                       71|                  79|                     79| 250|                  28|                  28|              250|                 250|                 250|\n",
            "|   mean|        NULL|       NULL|                NULL|            2.924|NULL|1.224331474832071...|1.224331474832071...|                   NULL| 1.224234391100437...|     1.224234391100437...|2.917536834434464...|   2.917536834434464...|NULL|1.224126269676572...|1.224126269676572...|            9.512|                NULL|                NULL|\n",
            "| stddev|        NULL|       NULL|                NULL|9.184314374088485|NULL|5.633674334739166E13|5.633674334739166E13|                   NULL| 5.972940888620731E14|     5.972940888620731E14|4.522117201828196...|   4.522117201828196...|NULL|2.155736666423373E14|2.155736666423373E14|26.56888175877274|                NULL|                NULL|\n",
            "|    min|        NULL|       NULL|Mon Feb 03 06:43:...|                0|NULL| 1224221788093190146| 1224221788093190146|           1PaulMichael|  1219369906480844802|      1219369906480844802|            26703847|    1026431786438598657|  en| 1223875215526178816| 1223875215526178816|                0|<a href=\"http://t...|#sunset over #m6n...|\n",
            "|    max|        NULL|       NULL|Mon Feb 03 20:02:...|               66|NULL| 1224423049782603783| 1224423049782603783|           therileyshot|  1224417619173834752|      1224417619173834752| 1201930497636614144|     989556386404159489| und| 1224341975991713792| 1224341975991713792|              205|<a href=\"https://...|‘I’m watching you...|\n",
            "+-------+------------+-----------+--------------------+-----------------+----+--------------------+--------------------+-----------------------+---------------------+-------------------------+--------------------+-----------------------+----+--------------------+--------------------+-----------------+--------------------+--------------------+\n",
            "\n"
          ]
        }
      ]
    },
    {
      "cell_type": "code",
      "source": [
        "df.describe().first()"
      ],
      "metadata": {
        "colab": {
          "base_uri": "https://localhost:8080/"
        },
        "id": "BT8M-lpxmgUj",
        "outputId": "a5d75305-19b3-4a90-dde6-d9f746b7646b"
      },
      "execution_count": 27,
      "outputs": [
        {
          "output_type": "execute_result",
          "data": {
            "text/plain": [
              "Row(summary='count', contributors='0', coordinates='0', created_at='250', favorite_count='250', geo='0', id='250', id_str='250', in_reply_to_screen_name='79', in_reply_to_status_id='71', in_reply_to_status_id_str='71', in_reply_to_user_id='79', in_reply_to_user_id_str='79', lang='250', quoted_status_id='28', quoted_status_id_str='28', retweet_count='250', source='250', text='250')"
            ]
          },
          "metadata": {},
          "execution_count": 27
        }
      ]
    },
    {
      "cell_type": "code",
      "source": [
        "df.select(\"user.screen_name\").show(40)"
      ],
      "metadata": {
        "colab": {
          "base_uri": "https://localhost:8080/"
        },
        "id": "-0qlimuBmgXO",
        "outputId": "1e2e4fb3-a297-44b9-d3d8-54fc2050b83d"
      },
      "execution_count": 28,
      "outputs": [
        {
          "output_type": "stream",
          "name": "stdout",
          "text": [
            "+---------------+\n",
            "|    screen_name|\n",
            "+---------------+\n",
            "|  highland_andy|\n",
            "|  highland_andy|\n",
            "|   WAWilliams15|\n",
            "|      AKinniyos|\n",
            "|       pararu25|\n",
            "| WalesCoastPath|\n",
            "|       MadFitba|\n",
            "|    Lillybetmax|\n",
            "|         Duo935|\n",
            "|          owz09|\n",
            "|      CairnToby|\n",
            "|        SGIRE82|\n",
            "|   BaitTheLines|\n",
            "|townsendoutdoor|\n",
            "|  jaewestside12|\n",
            "|  highland_andy|\n",
            "|     KateVause1|\n",
            "|   stoneartgall|\n",
            "|svencjohn_steve|\n",
            "|          PGWCC|\n",
            "|     Nightfly28|\n",
            "|      gcmallers|\n",
            "|   MCThomas1965|\n",
            "|CarolPoyerPeett|\n",
            "|        gez1087|\n",
            "|serimalbpickles|\n",
            "|     Samwill444|\n",
            "| EmmamorrisxELM|\n",
            "|   WAWilliams15|\n",
            "|        Mairebc|\n",
            "| Weather_Nathan|\n",
            "|   wenglishpaul|\n",
            "|    RuthHolmes2|\n",
            "|      leanjeanp|\n",
            "|DerekTheWeather|\n",
            "|   MCThomas1965|\n",
            "|  ruths_gallery|\n",
            "|       TimTar96|\n",
            "|  ruths_gallery|\n",
            "|  goldfinches12|\n",
            "+---------------+\n",
            "only showing top 40 rows\n",
            "\n"
          ]
        }
      ]
    },
    {
      "cell_type": "code",
      "source": [
        "df.select ('user.screen_name').show(40)"
      ],
      "metadata": {
        "colab": {
          "base_uri": "https://localhost:8080/"
        },
        "id": "4Dn9HhuWmgZt",
        "outputId": "eface9d6-4afc-4a8d-f1dd-15f134b634ae"
      },
      "execution_count": 29,
      "outputs": [
        {
          "output_type": "stream",
          "name": "stdout",
          "text": [
            "+---------------+\n",
            "|    screen_name|\n",
            "+---------------+\n",
            "|  highland_andy|\n",
            "|  highland_andy|\n",
            "|   WAWilliams15|\n",
            "|      AKinniyos|\n",
            "|       pararu25|\n",
            "| WalesCoastPath|\n",
            "|       MadFitba|\n",
            "|    Lillybetmax|\n",
            "|         Duo935|\n",
            "|          owz09|\n",
            "|      CairnToby|\n",
            "|        SGIRE82|\n",
            "|   BaitTheLines|\n",
            "|townsendoutdoor|\n",
            "|  jaewestside12|\n",
            "|  highland_andy|\n",
            "|     KateVause1|\n",
            "|   stoneartgall|\n",
            "|svencjohn_steve|\n",
            "|          PGWCC|\n",
            "|     Nightfly28|\n",
            "|      gcmallers|\n",
            "|   MCThomas1965|\n",
            "|CarolPoyerPeett|\n",
            "|        gez1087|\n",
            "|serimalbpickles|\n",
            "|     Samwill444|\n",
            "| EmmamorrisxELM|\n",
            "|   WAWilliams15|\n",
            "|        Mairebc|\n",
            "| Weather_Nathan|\n",
            "|   wenglishpaul|\n",
            "|    RuthHolmes2|\n",
            "|      leanjeanp|\n",
            "|DerekTheWeather|\n",
            "|   MCThomas1965|\n",
            "|  ruths_gallery|\n",
            "|       TimTar96|\n",
            "|  ruths_gallery|\n",
            "|  goldfinches12|\n",
            "+---------------+\n",
            "only showing top 40 rows\n",
            "\n"
          ]
        }
      ]
    },
    {
      "cell_type": "code",
      "source": [
        "df.filter(df['lang'] == \"en\").show()"
      ],
      "metadata": {
        "colab": {
          "base_uri": "https://localhost:8080/"
        },
        "id": "a093PyDDmgcO",
        "outputId": "d724b6a4-2425-483f-e9d1-1d47f7341056"
      },
      "execution_count": 30,
      "outputs": [
        {
          "output_type": "stream",
          "name": "stdout",
          "text": [
            "+------------+-----------+--------------------+--------------------+-----------------+--------------+---------+----+-------------------+-------------------+-----------------------+---------------------+-------------------------+-------------------+-----------------------+---------------+----+------------+--------------------+------------------+-------------+----------------+--------------------+-------------+---------+--------------------+--------------------+--------------------+---------+--------------------+\n",
            "|contributors|coordinates|          created_at|            entities|extended_entities|favorite_count|favorited| geo|                 id|             id_str|in_reply_to_screen_name|in_reply_to_status_id|in_reply_to_status_id_str|in_reply_to_user_id|in_reply_to_user_id_str|is_quote_status|lang|    metadata|               place|possibly_sensitive|quoted_status|quoted_status_id|quoted_status_id_str|retweet_count|retweeted|    retweeted_status|              source|                text|truncated|                user|\n",
            "+------------+-----------+--------------------+--------------------+-----------------+--------------+---------+----+-------------------+-------------------+-----------------------+---------------------+-------------------------+-------------------+-----------------------+---------------+----+------------+--------------------+------------------+-------------+----------------+--------------------+-------------+---------+--------------------+--------------------+--------------------+---------+--------------------+\n",
            "|        NULL|       NULL|Mon Feb 03 20:02:...|{[], NULL, [], [{...|             NULL|             0|    false|NULL|1224423049782603783|1224423049782603783|            Lillybetmax|  1224417619173834752|      1224417619173834752|1139793943032414208|    1139793943032414208|          false|  en|{en, recent}|                NULL|              NULL|         NULL|            NULL|                NULL|            0|    false|                NULL|<a href=\"http://t...|@Lillybetmax @Vis...|     true|{false, Wed Aug 2...|\n",
            "|        NULL|       NULL|Mon Feb 03 19:48:...|{[], NULL, [], []...|             NULL|             0|    false|NULL|1224419463136600064|1224419463136600064|                   NULL|                 NULL|                     NULL|               NULL|                   NULL|          false|  en|{en, recent}|                NULL|              NULL|         NULL|            NULL|                NULL|            3|    false|{NULL, NULL, Mon ...|<a href=\"http://t...|RT @therileyshot:...|    false|{false, Tue Jun 2...|\n",
            "|        NULL|       NULL|Mon Feb 03 19:45:...|{[], NULL, [], []...|             NULL|             0|    false|NULL|1224418703703408642|1224418703703408642|                   NULL|                 NULL|                     NULL|               NULL|                   NULL|          false|  en|{en, recent}|                NULL|              NULL|         NULL|            NULL|                NULL|           14|    false|{NULL, NULL, Mon ...|<a href=\"http://t...|RT @DerekTheWeath...|    false|{false, Mon Mar 2...|\n",
            "|        NULL|       NULL|Mon Feb 03 19:45:...|{[], NULL, [], []...|             NULL|             0|    false|NULL|1224418582056054785|1224418582056054785|                   NULL|                 NULL|                     NULL|               NULL|                   NULL|          false|  en|{en, recent}|                NULL|              NULL|         NULL|            NULL|                NULL|            2|    false|{NULL, NULL, Mon ...|<a href=\"http://t...|RT @highland_andy...|    false|{false, Thu Apr 2...|\n",
            "|        NULL|       NULL|Mon Feb 03 19:41:...|{[], NULL, [], [{...|             NULL|             1|    false|NULL|1224417619173834752|1224417619173834752|          highland_andy|  1224409962190905344|      1224409962190905344|          789877778|              789877778|          false|  en|{en, recent}|                NULL|              NULL|         NULL|            NULL|                NULL|            0|    false|                NULL|<a href=\"http://t...|@highland_andy @V...|     true|{false, Sat Jun 1...|\n",
            "|        NULL|       NULL|Mon Feb 03 19:41:...|{[], NULL, [], []...|             NULL|             0|    false|NULL|1224417601310396416|1224417601310396416|                   NULL|                 NULL|                     NULL|               NULL|                   NULL|          false|  en|{en, recent}|                NULL|              NULL|         NULL|            NULL|                NULL|           14|    false|{NULL, NULL, Mon ...|<a href=\"https://...|RT @DerekTheWeath...|    false|{false, Fri Jan 0...|\n",
            "|        NULL|       NULL|Mon Feb 03 19:40:...|{[], NULL, [], []...|             NULL|             0|    false|NULL|1224417439968112647|1224417439968112647|           WAWilliams15|  1224402911406497793|      1224402911406497793|          116506847|              116506847|          false|  en|{en, recent}|                NULL|              NULL|         NULL|            NULL|                NULL|            0|    false|                NULL|<a href=\"http://t...|@WAWilliams15 @De...|    false|{false, Wed Oct 1...|\n",
            "|        NULL|       NULL|Mon Feb 03 19:39:...|{[], NULL, [], []...|             NULL|             0|    false|NULL|1224417020999012352|1224417020999012352|                   NULL|                 NULL|                     NULL|               NULL|                   NULL|          false|  en|{en, recent}|                NULL|              NULL|         NULL|            NULL|                NULL|           14|    false|{NULL, NULL, Mon ...|<a href=\"http://t...|RT @DerekTheWeath...|    false|{false, Fri Nov 0...|\n",
            "|        NULL|       NULL|Mon Feb 03 19:32:...|{[], NULL, [], [{...|             NULL|             1|    false|NULL|1224415421094400000|1224415421094400000|          highland_andy|  1224409962190905344|      1224409962190905344|          789877778|              789877778|          false|  en|{en, recent}|                NULL|              NULL|         NULL|            NULL|                NULL|            0|    false|                NULL|<a href=\"http://t...|@highland_andy @V...|     true|{false, Sun Jun 1...|\n",
            "|        NULL|       NULL|Mon Feb 03 19:28:...|{[], NULL, [], []...|             NULL|             0|    false|NULL|1224414269690843138|1224414269690843138|                   NULL|                 NULL|                     NULL|               NULL|                   NULL|          false|  en|{en, recent}|                NULL|              NULL|         NULL|            NULL|                NULL|           14|    false|{NULL, NULL, Mon ...|<a href=\"http://t...|RT @DerekTheWeath...|    false|{false, Fri Jul 1...|\n",
            "|        NULL|       NULL|Mon Feb 03 19:17:...|{[], NULL, [], []...|             NULL|             0|    false|NULL|1224411533788270592|1224411533788270592|                   NULL|                 NULL|                     NULL|               NULL|                   NULL|          false|  en|{en, recent}|                NULL|              NULL|         NULL|            NULL|                NULL|            2|    false|{NULL, NULL, Mon ...|<a href=\"https://...|RT @highland_andy...|    false|{false, Fri Jan 2...|\n",
            "|        NULL|       NULL|Mon Feb 03 19:10:...|{[], NULL, [], [{...|             NULL|            43|    false|NULL|1224409962190905344|1224409962190905344|                   NULL|                 NULL|                     NULL|               NULL|                   NULL|          false|  en|{en, recent}|                NULL|             false|         NULL|            NULL|                NULL|            2|    false|                NULL|<a href=\"http://t...|This image has to...|     true|{false, Wed Aug 2...|\n",
            "|        NULL|       NULL|Mon Feb 03 19:07:...|{[{[107, 116], St...|             NULL|             0|    false|NULL|1224409064735756288|1224409064735756288|                   NULL|                 NULL|                     NULL|               NULL|                   NULL|          false|  en|{en, recent}|                NULL|              NULL|         NULL|            NULL|                NULL|            3|    false|{NULL, NULL, Mon ...|<a href=\"http://t...|RT @frasergj: A s...|    false|{false, Tue Sep 1...|\n",
            "|        NULL|       NULL|Mon Feb 03 19:05:...|{[], NULL, [], []...|             NULL|             0|    false|NULL|1224408680906489858|1224408680906489858|                   NULL|                 NULL|                     NULL|               NULL|                   NULL|          false|  en|{en, recent}|                NULL|              NULL|         NULL|            NULL|                NULL|            6|    false|{NULL, NULL, Sun ...|<a href=\"http://t...|RT @dunbar44: A s...|    false|{false, Sat Jun 1...|\n",
            "|        NULL|       NULL|Mon Feb 03 19:01:...|{[], NULL, [], []...|             NULL|             0|    false|NULL|1224407616807370757|1224407616807370757|                   NULL|                 NULL|                     NULL|               NULL|                   NULL|          false|  en|{en, recent}|                NULL|              NULL|         NULL|            NULL|                NULL|           14|    false|{NULL, NULL, Mon ...|<a href=\"http://t...|RT @DerekTheWeath...|    false|{false, Sat Dec 2...|\n",
            "|        NULL|       NULL|Mon Feb 03 18:59:...|{[], NULL, [], []...|             NULL|             0|    false|NULL|1224407088446820353|1224407088446820353|                   NULL|                 NULL|                     NULL|               NULL|                   NULL|          false|  en|{en, recent}|                NULL|              NULL|         NULL|            NULL|                NULL|           24|    false|{NULL, NULL, Mon ...|<a href=\"http://t...|RT @bbcweather: W...|    false|{false, Sun May 2...|\n",
            "|        NULL|       NULL|Mon Feb 03 18:56:...|{[], NULL, [], []...|             NULL|             0|    false|NULL|1224406347640340482|1224406347640340482|                   NULL|                 NULL|                     NULL|               NULL|                   NULL|          false|  en|{en, recent}|                NULL|              NULL|         NULL|            NULL|                NULL|           14|    false|{NULL, NULL, Mon ...|<a href=\"http://t...|RT @DerekTheWeath...|    false|{false, Tue May 1...|\n",
            "|        NULL|       NULL|Mon Feb 03 18:55:...|{[], NULL, [], []...|             NULL|             0|    false|NULL|1224405989790797829|1224405989790797829|        DerekTheWeather|  1224400483282014214|      1224400483282014214|          309929507|              309929507|          false|  en|{en, recent}|                NULL|              NULL|         NULL|            NULL|                NULL|            0|    false|                NULL|<a href=\"http://t...|@DerekTheWeather ...|    false|{false, Fri Feb 0...|\n",
            "|        NULL|       NULL|Mon Feb 03 18:52:...|{[], NULL, [], [{...|             NULL|             0|    false|NULL|1224405292416425985|1224405292416425985|              sotcstill|  1219369906480844802|      1219369906480844802|          324611883|              324611883|          false|  en|{en, recent}|{{[[[-6.791799, 5...|              NULL|         NULL|            NULL|                NULL|            0|    false|                NULL|<a href=\"http://t...|@sotcstill @OldDu...|     true|{false, Sat May 2...|\n",
            "|        NULL|       NULL|Mon Feb 03 18:52:...|{[], NULL, [], []...|             NULL|             0|    false|NULL|1224405283285487616|1224405283285487616|                   NULL|                 NULL|                     NULL|               NULL|                   NULL|          false|  en|{en, recent}|                NULL|              NULL|         NULL|            NULL|                NULL|           14|    false|{NULL, NULL, Mon ...|<a href=\"http://t...|RT @DerekTheWeath...|    false|{false, Thu Sep 2...|\n",
            "+------------+-----------+--------------------+--------------------+-----------------+--------------+---------+----+-------------------+-------------------+-----------------------+---------------------+-------------------------+-------------------+-----------------------+---------------+----+------------+--------------------+------------------+-------------+----------------+--------------------+-------------+---------+--------------------+--------------------+--------------------+---------+--------------------+\n",
            "only showing top 20 rows\n",
            "\n"
          ]
        }
      ]
    },
    {
      "cell_type": "code",
      "source": [
        "df.filter(df['lang'] == \"en\").select('user.screen_name', 'user.location').show(40)"
      ],
      "metadata": {
        "colab": {
          "base_uri": "https://localhost:8080/"
        },
        "id": "YDZWp8SBmgfu",
        "outputId": "51a37035-3cc5-4d05-837f-d9cd7125e15d"
      },
      "execution_count": 31,
      "outputs": [
        {
          "output_type": "stream",
          "name": "stdout",
          "text": [
            "+---------------+--------------------+\n",
            "|    screen_name|            location|\n",
            "+---------------+--------------------+\n",
            "|  highland_andy|Highlands of Scot...|\n",
            "|      AKinniyos|                Utah|\n",
            "| WalesCoastPath|               Wales|\n",
            "|       MadFitba|                    |\n",
            "|    Lillybetmax|   God's Own County |\n",
            "|         Duo935|      United Kingdom|\n",
            "|          owz09|     Ammanford,wales|\n",
            "|      CairnToby|                    |\n",
            "|        SGIRE82|             Ireland|\n",
            "|   BaitTheLines|      Swansea, Wales|\n",
            "|townsendoutdoor|          Cairngorms|\n",
            "|  highland_andy|Highlands of Scot...|\n",
            "|     KateVause1|Weston-super-Mare...|\n",
            "|   stoneartgall|                    |\n",
            "|svencjohn_steve|       Pembrokeshire|\n",
            "|          PGWCC|Port Glasgow Inve...|\n",
            "|     Nightfly28|   Coleford, England|\n",
            "|      gcmallers|     Hawarden, Wales|\n",
            "|   MCThomas1965|    Wicklow, Ireland|\n",
            "|CarolPoyerPeett|          West Wales|\n",
            "|        gez1087|            Wales UK|\n",
            "|serimalbpickles|               Wales|\n",
            "|     Samwill444|           Llanmadoc|\n",
            "| EmmamorrisxELM|Wales, United Kin...|\n",
            "|   WAWilliams15|               Wales|\n",
            "|        Mairebc|      🏴󠁧󠁢󠁷󠁬󠁳󠁿|\n",
            "| Weather_Nathan|Uk, Doncaster, So...|\n",
            "|   wenglishpaul|      Cardiff, Wales|\n",
            "|    RuthHolmes2|            Scotland|\n",
            "|      leanjeanp|    Central Scotland|\n",
            "|DerekTheWeather|Barrybados-Cardif...|\n",
            "|   MCThomas1965|    Wicklow, Ireland|\n",
            "|  ruths_gallery|Twickenham, Great...|\n",
            "|       TimTar96|         Buckingham |\n",
            "|  goldfinches12| Eastbourne, England|\n",
            "|PaoloSaracino10|                    |\n",
            "|    MyLunaRose1|          Surrey UK |\n",
            "|        GRMcKen|          NW England|\n",
            "|        JFr4ser|             Glasgow|\n",
            "|    SBillcliffe|                    |\n",
            "+---------------+--------------------+\n",
            "only showing top 40 rows\n",
            "\n"
          ]
        }
      ]
    },
    {
      "cell_type": "code",
      "source": [
        "df.select('text').filter(df['text'].contains(\"sun\")).show(10, False)"
      ],
      "metadata": {
        "colab": {
          "base_uri": "https://localhost:8080/"
        },
        "id": "wKBCEXsamvM7",
        "outputId": "eeff9eab-0a6d-4f82-ce9c-e4a31d3d2884"
      },
      "execution_count": 32,
      "outputs": [
        {
          "output_type": "stream",
          "name": "stdout",
          "text": [
            "+--------------------------------------------------------------------------------------------------------------------------------------------+\n",
            "|text                                                                                                                                        |\n",
            "+--------------------------------------------------------------------------------------------------------------------------------------------+\n",
            "|RT @frasergj: A sunny day at @StirUni this afternoon....until the wind picked up, blowing rain clouds over #Stirling (3/2) #WeatherWatcherG…|\n",
            "|RT @frasergj: After a sunny start around #Stirling winds blowing rain clouds across (3/2) #WeatherWatcherGraham @BBCScotWeather @BBCAimsir… |\n",
            "|RT @frasergj: A sunny day at @StirUni this afternoon....until the wind picked up, blowing rain clouds over #Stirling (3/2) #WeatherWatcherG…|\n",
            "|RT @frasergj: A sunny day at @StirUni this afternoon....until the wind picked up, blowing rain clouds over #Stirling (3/2) #WeatherWatcherG…|\n",
            "|RT @frasergj: After a sunny start around #Stirling winds blowing rain clouds across (3/2) #WeatherWatcherGraham @BBCScotWeather @BBCAimsir… |\n",
            "|#sunset over #m6n #rushhour @bbcmtd @bbcweather Birmingham https://t.co/xfmiSqR0u3                                                          |\n",
            "|A chilly sunset in ryhill park @JonMitchellITV @kerriegosneyTV @itvweather @metoffice @BBCWthrWatchers @bbcweather… https://t.co/3kHPFOj7W2 |\n",
            "|A sunny day at @StirUni this afternoon....until the wind picked up, blowing rain clouds over #Stirling (3/2)… https://t.co/nkyHmHar8d       |\n",
            "|RT @frasergj: After a sunny start around #Stirling winds blowing rain clouds across (3/2) #WeatherWatcherGraham @BBCScotWeather @BBCAimsir… |\n",
            "|RT @frasergj: After a sunny start around #Stirling winds blowing rain clouds across (3/2) #WeatherWatcherGraham @BBCScotWeather @BBCAimsir… |\n",
            "+--------------------------------------------------------------------------------------------------------------------------------------------+\n",
            "only showing top 10 rows\n",
            "\n"
          ]
        }
      ]
    },
    {
      "cell_type": "code",
      "source": [
        "df.createOrReplaceTempView(\"weather\")"
      ],
      "metadata": {
        "id": "uS5caxaXmvPK"
      },
      "execution_count": 33,
      "outputs": []
    },
    {
      "cell_type": "code",
      "source": [
        "sqlDF = spark.sql(\"SELECT user.screen_name, user.location FROM weather WHERE lang = 'en' \")"
      ],
      "metadata": {
        "id": "26M1UyNHmvRi"
      },
      "execution_count": 35,
      "outputs": []
    },
    {
      "cell_type": "code",
      "source": [
        "sqlDF = spark.sql('SELECT user.screen_name, user.location FROM weather WHERE lang = \"en\" ')"
      ],
      "metadata": {
        "id": "mXw2nogMmvVR"
      },
      "execution_count": 46,
      "outputs": []
    },
    {
      "cell_type": "code",
      "source": [
        "sqlDF.show(50)"
      ],
      "metadata": {
        "colab": {
          "base_uri": "https://localhost:8080/"
        },
        "id": "-zeONgmMm8KF",
        "outputId": "2ec8468f-d4b8-4db0-aae6-d5b7e7ccd867"
      },
      "execution_count": 47,
      "outputs": [
        {
          "output_type": "stream",
          "name": "stdout",
          "text": [
            "+---------------+--------------------+\n",
            "|    screen_name|            location|\n",
            "+---------------+--------------------+\n",
            "|  highland_andy|Highlands of Scot...|\n",
            "|      AKinniyos|                Utah|\n",
            "| WalesCoastPath|               Wales|\n",
            "|       MadFitba|                    |\n",
            "|    Lillybetmax|   God's Own County |\n",
            "|         Duo935|      United Kingdom|\n",
            "|          owz09|     Ammanford,wales|\n",
            "|      CairnToby|                    |\n",
            "|        SGIRE82|             Ireland|\n",
            "|   BaitTheLines|      Swansea, Wales|\n",
            "|townsendoutdoor|          Cairngorms|\n",
            "|  highland_andy|Highlands of Scot...|\n",
            "|     KateVause1|Weston-super-Mare...|\n",
            "|   stoneartgall|                    |\n",
            "|svencjohn_steve|       Pembrokeshire|\n",
            "|          PGWCC|Port Glasgow Inve...|\n",
            "|     Nightfly28|   Coleford, England|\n",
            "|      gcmallers|     Hawarden, Wales|\n",
            "|   MCThomas1965|    Wicklow, Ireland|\n",
            "|CarolPoyerPeett|          West Wales|\n",
            "|        gez1087|            Wales UK|\n",
            "|serimalbpickles|               Wales|\n",
            "|     Samwill444|           Llanmadoc|\n",
            "| EmmamorrisxELM|Wales, United Kin...|\n",
            "|   WAWilliams15|               Wales|\n",
            "|        Mairebc|      🏴󠁧󠁢󠁷󠁬󠁳󠁿|\n",
            "| Weather_Nathan|Uk, Doncaster, So...|\n",
            "|   wenglishpaul|      Cardiff, Wales|\n",
            "|    RuthHolmes2|            Scotland|\n",
            "|      leanjeanp|    Central Scotland|\n",
            "|DerekTheWeather|Barrybados-Cardif...|\n",
            "|   MCThomas1965|    Wicklow, Ireland|\n",
            "|  ruths_gallery|Twickenham, Great...|\n",
            "|       TimTar96|         Buckingham |\n",
            "|  goldfinches12| Eastbourne, England|\n",
            "|PaoloSaracino10|                    |\n",
            "|    MyLunaRose1|          Surrey UK |\n",
            "|        GRMcKen|          NW England|\n",
            "|        JFr4ser|             Glasgow|\n",
            "|    SBillcliffe|                    |\n",
            "|  lizzz_elliott|    Bristol, England|\n",
            "|Paullambert1999|      United Kingdom|\n",
            "|     usagreat88|                    |\n",
            "|  elly189245978|Hemel Hempstead, ...|\n",
            "|   lana_preston|                    |\n",
            "|    visitnessie|                    |\n",
            "|ViewFromEngland|Hertfordshire, En...|\n",
            "|  LetDogsBeDogs|Coventry, West Mi...|\n",
            "|        PABHERE|                    |\n",
            "|    SBillcliffe|                    |\n",
            "+---------------+--------------------+\n",
            "only showing top 50 rows\n",
            "\n"
          ]
        }
      ]
    },
    {
      "cell_type": "code",
      "source": [
        "sqlDF = spark.sql(\"SELECT count(*) AS weather_count FROM weather\").show()"
      ],
      "metadata": {
        "colab": {
          "base_uri": "https://localhost:8080/"
        },
        "id": "YbDAUIrOm8Mx",
        "outputId": "bbd769f1-fa02-4a44-98d4-5a23feb2b29d"
      },
      "execution_count": 38,
      "outputs": [
        {
          "output_type": "stream",
          "name": "stdout",
          "text": [
            "+-------------+\n",
            "|weather_count|\n",
            "+-------------+\n",
            "|          250|\n",
            "+-------------+\n",
            "\n"
          ]
        }
      ]
    },
    {
      "cell_type": "code",
      "source": [
        "sqlDF = spark.sql(\"SELECT lang, count(*) AS language_count FROM weather GROUP BY lang\").show()"
      ],
      "metadata": {
        "colab": {
          "base_uri": "https://localhost:8080/"
        },
        "id": "K2vQjKAjm8QK",
        "outputId": "9221b27f-b717-4a92-baaf-312195e6c5aa"
      },
      "execution_count": 39,
      "outputs": [
        {
          "output_type": "stream",
          "name": "stdout",
          "text": [
            "+----+--------------+\n",
            "|lang|language_count|\n",
            "+----+--------------+\n",
            "|  en|           236|\n",
            "| und|            13|\n",
            "|  es|             1|\n",
            "+----+--------------+\n",
            "\n"
          ]
        }
      ]
    },
    {
      "cell_type": "code",
      "source": [
        "sqlDF = spark.sql(\"SELECT text FROM weather WHERE text LIKE '%sun%' \").show()"
      ],
      "metadata": {
        "colab": {
          "base_uri": "https://localhost:8080/"
        },
        "id": "GJSQlhz4nHNb",
        "outputId": "bdf18b49-c1e8-4c8e-fe77-ef1b2b91ae2c"
      },
      "execution_count": 41,
      "outputs": [
        {
          "output_type": "stream",
          "name": "stdout",
          "text": [
            "+--------------------+\n",
            "|                text|\n",
            "+--------------------+\n",
            "|RT @frasergj: A s...|\n",
            "|RT @frasergj: Aft...|\n",
            "|RT @frasergj: A s...|\n",
            "|RT @frasergj: A s...|\n",
            "|RT @frasergj: Aft...|\n",
            "|#sunset over #m6n...|\n",
            "|A chilly sunset i...|\n",
            "|A sunny day at @S...|\n",
            "|RT @frasergj: Aft...|\n",
            "|RT @frasergj: Aft...|\n",
            "|RT @frasergj: Aft...|\n",
            "|RT @frasergj: Aft...|\n",
            "|After a sunny sta...|\n",
            "|RT @Iceman26061: ...|\n",
            "|Porthleven 2014 t...|\n",
            "|Monday morning se...|\n",
            "+--------------------+\n",
            "\n"
          ]
        }
      ]
    },
    {
      "cell_type": "code",
      "source": [
        "sqlDF = spark.sql(\"SELECT text FROM weather WHERE UPPER(text) LIKE '%SUN%' \").show(20, False)"
      ],
      "metadata": {
        "colab": {
          "base_uri": "https://localhost:8080/"
        },
        "id": "h7TLlnIinHPu",
        "outputId": "1b731b50-d33e-4f35-82a2-290805ee0da5"
      },
      "execution_count": 42,
      "outputs": [
        {
          "output_type": "stream",
          "name": "stdout",
          "text": [
            "+---------------------------------------------------------------------------------------------------------------------------------------------+\n",
            "|text                                                                                                                                         |\n",
            "+---------------------------------------------------------------------------------------------------------------------------------------------+\n",
            "|RT @frasergj: A sunny day at @StirUni this afternoon....until the wind picked up, blowing rain clouds over #Stirling (3/2) #WeatherWatcherG… |\n",
            "|RT @frasergj: After a sunny start around #Stirling winds blowing rain clouds across (3/2) #WeatherWatcherGraham @BBCScotWeather @BBCAimsir…  |\n",
            "|RT @frasergj: A sunny day at @StirUni this afternoon....until the wind picked up, blowing rain clouds over #Stirling (3/2) #WeatherWatcherG… |\n",
            "|RT @frasergj: A sunny day at @StirUni this afternoon....until the wind picked up, blowing rain clouds over #Stirling (3/2) #WeatherWatcherG… |\n",
            "|RT @simon_weather: Sunrise in Great Yarmouth @StormchaserUKEU @carlharlott @danholley @stormbell @Lowweather @TheSnowDreamer @iainG81 @MetR… |\n",
            "|RT @frasergj: After a sunny start around #Stirling winds blowing rain clouds across (3/2) #WeatherWatcherGraham @BBCScotWeather @BBCAimsir…  |\n",
            "|#sunset over #m6n #rushhour @bbcmtd @bbcweather Birmingham https://t.co/xfmiSqR0u3                                                           |\n",
            "|A chilly sunset in ryhill park @JonMitchellITV @kerriegosneyTV @itvweather @metoffice @BBCWthrWatchers @bbcweather… https://t.co/3kHPFOj7W2  |\n",
            "|A sunny day at @StirUni this afternoon....until the wind picked up, blowing rain clouds over #Stirling (3/2)… https://t.co/nkyHmHar8d        |\n",
            "|RT @frasergj: After a sunny start around #Stirling winds blowing rain clouds across (3/2) #WeatherWatcherGraham @BBCScotWeather @BBCAimsir…  |\n",
            "|RT @frasergj: After a sunny start around #Stirling winds blowing rain clouds across (3/2) #WeatherWatcherGraham @BBCScotWeather @BBCAimsir…  |\n",
            "|Sunshine, rain or snow. For me all of the enjoyment of the weather comes from how it feels. ☀️ 🌧 ❄️ https://t.co/fUOgmvCdlJ                 |\n",
            "|RT @simon_weather: Sunrise in Great Yarmouth @StormchaserUKEU @carlharlott @danholley @stormbell @Lowweather @TheSnowDreamer @iainG81 @MetR… |\n",
            "|RT @simon_weather: Sunrise in Great Yarmouth @StormchaserUKEU @carlharlott @danholley @stormbell @Lowweather @TheSnowDreamer @iainG81 @MetR… |\n",
            "|RT @simon_weather: Sunrise in Great Yarmouth @StormchaserUKEU @carlharlott @danholley @stormbell @Lowweather @TheSnowDreamer @iainG81 @MetR… |\n",
            "|RT @frasergj: After a sunny start around #Stirling winds blowing rain clouds across (3/2) #WeatherWatcherGraham @BBCScotWeather @BBCAimsir…  |\n",
            "|RT @frasergj: After a sunny start around #Stirling winds blowing rain clouds across (3/2) #WeatherWatcherGraham @BBCScotWeather @BBCAimsir…  |\n",
            "|After a sunny start around #Stirling winds blowing rain clouds across (3/2) #WeatherWatcherGraham @BBCScotWeather… https://t.co/tOtpDgqBXF   |\n",
            "|RT @ruths_gallery: It looks as if that jackdaw is making a contrail 😳🤣 Sunny spells are forecast for #Twickenham before a cloudy afternoon…|\n",
            "|RT @ruths_gallery: It looks as if that jackdaw is making a contrail 😳🤣 Sunny spells are forecast for #Twickenham before a cloudy afternoon…|\n",
            "+---------------------------------------------------------------------------------------------------------------------------------------------+\n",
            "only showing top 20 rows\n",
            "\n"
          ]
        }
      ]
    }
  ]
}